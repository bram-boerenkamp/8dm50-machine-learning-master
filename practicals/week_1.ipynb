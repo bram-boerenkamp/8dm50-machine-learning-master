{
 "cells": [
  {
   "cell_type": "markdown",
   "metadata": {},
   "source": [
    "# Getting started with the practicals\n",
    "\n",
    "***These notebooks are best viewed in Jupyter. GitHub might not display all content of the notebook properly.***\n",
    "\n",
    "## Goal of the practical exercises\n",
    "\n",
    "The exercises have two goals:\n",
    "\n",
    "1. Give you the opportunity to obtain 'hands-on' experience in implementing, training and evaluation machine learning models in Python. This experience will also help you better understand the theory covered during the lectures. \n",
    "\n",
    "2. Occasionally demonstrate some 'exam-style' questions that you can use as a reference when studying for the exam. Note however that the example questions are (as the name suggests) only examples and do not constitute a complete and sufficient list of 'things that you have to learn for the exam'. You can recognize example questions as (parts of) exercises by <font color=\"#770a0a\">this font color</font>.\n",
    "\n",
    "For each set of exercises (one Python notebook such as this one $==$ one set of exercises) you have to submit deliverables that will then be graded and constitute 25% of the final grade. Thus, the work that you do during the practicals has double contribution towards the final grade: as 25% direct contribution and as a preparation for the exam that will define the other 65% of the grade.\n",
    "\n",
    "## Deliverables\n",
    "\n",
    "For each set of exercises, you have to submit:\n",
    "1. Python functions and/or classes (`.py` files) that implement basic functionalities (e.g. a $k$-NN classifier) and \n",
    "2. A *single* Python notebook that contains the experiments, visualization and answer to the questions and math problems. *Do not submit your answers as Word or PDF documents (they will not be graded)*. The submitted code and notebook should run without errors and be able to fully reproduce the reported results.\n",
    "\n",
    "We recommend that you clone the provided notebooks (such as this one) and write your code in them. The following rubric will be used when grading the practical work:\n",
    "\n",
    "Component  | Insufficient | Satisfactory | Excellent\n",
    "--- | --- | --- | ---\n",
    "**Code** | Missing or incomplete code structure, runs with errors, lacks documentation | Self-contained, does not result in errors, contains some documentation, can be easily used to reproduce the reported results | User-friendly, well-structured (good separation of general functionality and experiments, i.e. between `.py` files and the Pyhthon notebook), detailed documentation, optimized for speed, <s>use of a version control system (such as GitHub)</s>\n",
    "**Answers to questions** | Incorrect, does not convey understanding of the material, appears to be copied from another source | Correct, conveys good understanding of the material, description in own words | Correct, conveys excellent level of understanding, makes connections between topics\n",
    "\n",
    "## A word on notation\n",
    "\n",
    "When we refer to Python variables, we will use a monospace font. For example, `X` is a Python variable that contains the data matrix. When we refer to mathematical variables, we will use the de-facto standard notation: $a$ or $\\lambda$ is a scalar variable, $\\boldsymbol{\\mathrm{w}}$ is a vector and $\\boldsymbol{\\mathrm{X}}$ is a matrix (e.g. a data matrix from the example above). You should use the same notation when writing your answers and solutions.\n",
    "\n",
    "# Two simple machine learning models\n",
    "\n",
    "## Preliminaries\n",
    "\n",
    "Throughout the practical curriculum of this course, we will use the Python programming language and its ecosystem of libraries for scientific computing (such as `numpy`, `scipy`, `matplotlib`, `scikit-learn` etc). The practicals for the deep learning part of the course will use the `keras` deep learning framework. If you are not sufficiently familiar with this programming language and/or the listed libraries and packages, you are strongly advised to go over the corresponding tutorials from the ['Essential skills'](https://github.com/tueimage/essential-skills) module (the `scikit-learn` library is not covered by the tutorial, however, an extensive documentation is available [here](https://scikit-learn.org/stable/documentation.html).\n",
    "\n",
    "In this first set of exercises, we will use two toy datasets that ship together with `scikit-learn`. \n",
    "\n",
    "The first dataset is named `diabetes` and contains 442 patients described with 10 features: age, sex, body mass index, average blood pressure, and six blood serum measurements. The target variable is a continuous quantitative measure of the disease (diabetes) progression one year after the baseline measurements were recorded. More information is available [here](https://github.com/scikit-learn/scikit-learn/blob/master/sklearn/datasets/descr/diabetes.rst) and [here](https://www4.stat.ncsu.edu/~boos/var.select/diabetes.html).\n",
    "\n",
    "The second dataset is named `breast_cancer` and is a copy of the UCI ML Breast Cancer Wisconsin (Diagnostic) datasets (more infortmation is available [here](https://github.com/scikit-learn/scikit-learn/blob/master/sklearn/datasets/descr/breast_cancer.rst) and [here](https://archive.ics.uci.edu/ml/datasets/Breast+Cancer+Wisconsin+(Diagnostic)). The datasets contains of 569 instances represented with 30 features that are computed from a images of a fine needle aspirate of a breast mass. The features describe characteristics of the cell nuclei present in the image. Each instance is associated with a binary target variable ('malignant' or 'benign'). \n",
    "\n",
    "You can load the two datasets in the following way:"
   ]
  },
  {
   "cell_type": "code",
   "execution_count": 1,
   "metadata": {},
   "outputs": [],
   "source": [
    "import numpy as np\n",
    "from sklearn.datasets import load_diabetes, load_breast_cancer\n",
    "\n",
    "diabetes = load_diabetes()\n",
    "\n",
    "breast_cancer = load_breast_cancer()"
   ]
  },
  {
   "cell_type": "markdown",
   "metadata": {},
   "source": [
    "In the majority of the exercises in this course, we will use higher-level libraries and packages such as `scikit-learn` and `keras` to implement, train and evaluate machine learning models. However, the goal of this first set of exercises is to illustrate basic mathematical tools and machine learning concepts. Because of this, we will impose a restriction of only using basic `numpy` functionality. Furthermore, you should as much as possible restrict the use of for-loops (e.g. use a vector-to-matrix product instead of a for loop when appropriate).\n",
    "\n",
    "If `X` is a 2D data matrix, we will use the convention that the rows of the matrix contain the samples (or instances) and the columns contain the features (inputs to the model). That means that a data matrix with a shape `(122, 13)` represents a dataset with 122 samples, each represented with 13 features. Similarly, if `Y` is a 2D matrix containing the targets, the rows correspond to the samples and the columns to the different targets (outputs of the model). Thus, if the shape of `Y` is `(122, 3)` that means that there are 122 samples and each sample is has 3 targets (note that in the majority of the examples we will only have a single target and thus the number of columns of `Y` will be 1).\n",
    "\n",
    "You can obtain the data and target matrices from the two datasets in the following way:"
   ]
  },
  {
   "cell_type": "code",
   "execution_count": 2,
   "metadata": {},
   "outputs": [
    {
     "name": "stdout",
     "output_type": "stream",
     "text": [
      "(442, 10)\n",
      "(442, 1)\n"
     ]
    }
   ],
   "source": [
    "X = diabetes.data\n",
    "Y = diabetes.target[:, np.newaxis]\n",
    "\n",
    "print(X.shape)\n",
    "print(Y.shape)"
   ]
  },
  {
   "cell_type": "markdown",
   "metadata": {},
   "source": [
    "If you want to only use a subset of the available features, you can obtain a reduced data matrix in the following way:"
   ]
  },
  {
   "cell_type": "code",
   "execution_count": 3,
   "metadata": {
    "scrolled": true
   },
   "outputs": [
    {
     "name": "stdout",
     "output_type": "stream",
     "text": [
      "(442, 1)\n",
      "(442, 2)\n"
     ]
    }
   ],
   "source": [
    "# use only the fourth feature\n",
    "X = diabetes.data[:, np.newaxis, 3]\n",
    "print(X.shape)\n",
    "\n",
    "# use the third, and tenth features\n",
    "X = diabetes.data[:, (3,9)]\n",
    "print(X.shape)"
   ]
  },
  {
   "cell_type": "markdown",
   "metadata": {},
   "source": [
    "***Question***: Why we need to use the `np.newaxis` expression in the examples above? \n",
    "\n",
    "Note that in all your experiments in the exercises, you should use and independent training and testing sets. You can split the dataset into a training and testing subsets in the following way:"
   ]
  },
  {
   "cell_type": "code",
   "execution_count": 4,
   "metadata": {},
   "outputs": [
    {
     "name": "stdout",
     "output_type": "stream",
     "text": [
      "(300, 1)\n",
      "(300, 1)\n",
      "(142, 1)\n",
      "(142, 1)\n"
     ]
    }
   ],
   "source": [
    "# use the fourth feature\n",
    "# use the first 300 training samples for training, and the rest for testing\n",
    "X_train = diabetes.data[:300, np.newaxis, 3]\n",
    "y_train = diabetes.target[:300, np.newaxis]\n",
    "X_test = diabetes.data[300:, np.newaxis, 3]\n",
    "y_test = diabetes.target[300:, np.newaxis]\n",
    "print(X_train.shape)\n",
    "print(y_train.shape)\n",
    "print(X_test.shape)\n",
    "print(y_test.shape)"
   ]
  },
  {
   "cell_type": "markdown",
   "metadata": {},
   "source": [
    "## Exercises\n",
    "\n",
    "### Linear regression\n",
    "\n",
    "Implement training and evaluation of a linear regression model on the diabetes dataset using only matrix multiplication, inversion and transpose operations. Report the mean squared error of the model.\n",
    "\n",
    "To get you started we have implemented the first part of this exercise (fitting of the model) as an example."
   ]
  },
  {
   "cell_type": "code",
   "execution_count": 8,
   "metadata": {},
   "outputs": [
    {
     "name": "stdout",
     "output_type": "stream",
     "text": [
      "[[ 152.34786452]\n",
      " [ -16.57607993]\n",
      " [-254.66532396]\n",
      " [ 560.98630022]\n",
      " [ 278.91811152]\n",
      " [-393.41357305]\n",
      " [  97.05460405]\n",
      " [ -19.0023093 ]\n",
      " [ 169.46450327]\n",
      " [ 632.95050374]\n",
      " [ 114.21638941]]\n",
      "MSE is 30823.57054393532\n",
      "(300, 10)\n"
     ]
    }
   ],
   "source": [
    "# add subfolder that contains all the function implementations\n",
    "# to the system path so we can import them\n",
    "import sys\n",
    "sys.path.append('code/')\n",
    "\n",
    "# the actual implementation is in linear_regression.py,\n",
    "# here we will just use it to fit a model\n",
    "from linear_regression import *\n",
    "\n",
    "# load the dataset\n",
    "# same as before, but now we use all features\n",
    "X_train = diabetes.data[:300, :]\n",
    "y_train = diabetes.target[:300, np.newaxis]\n",
    "X_test = diabetes.data[300:, :]\n",
    "y_test = diabetes.target[300:, np.newaxis]\n",
    "\n",
    "beta = lsq(X_train, y_train)\n",
    "\n",
    "y_pred = predict(X_test, beta)\n",
    "\n",
    "MSE = mse(X_test, y_test)\n",
    "\n",
    "# print the parameters\n",
    "print(beta)\n",
    "print('MSE is', MSE)"
   ]
  },
  {
   "cell_type": "markdown",
   "metadata": {},
   "source": [
    "### Weighted linear regression\n",
    "\n",
    "Assume that in the dataset that you use to train a linear regression model, there are identical versions of some samples. This problem can be reformulated to a weighted linear regression problem where the matrices $\\boldsymbol{\\mathrm{X}}$ and $\\boldsymbol{\\mathrm{Y}}$ (or the vector $\\boldsymbol{\\mathrm{y}}$ if there is only a single target/output variable) contain only the unique data samples, and a vector $\\boldsymbol{\\mathrm{d}}$ is introduced that gives more weight to samples that appear multiple times in the original dataset (for example, the sample that appears 3 times has a corresponding weight of 3). \n",
    "\n",
    "<p><font color='#770a0a'>Derive the expression for the least-squares solution of a weighted linear regression model (note that in addition to the matrices $\\boldsymbol{\\mathrm{X}}$ and $\\boldsymbol{\\mathrm{Y}}$, the solution should include a vector of weights $\\boldsymbol{\\mathrm{d}}$).</font></p>"
   ]
  },
  {
   "cell_type": "markdown",
   "metadata": {},
   "source": [
    "# Answer\n",
    "## Linear Regression Model\n",
    "\n",
    "- **Input:** $ \\mathbf{x}^T = [x_1, x_2, x_3] $\n",
    "- **Output:** $ \\hat{y} = \\hat{w}_0 + \\sum_{j} x_j \\hat{w}_j $\n",
    "    - **Vector Form:** $ \\hat{y} = \\hat{\\mathbf{w}}^T \\mathbf{x} $\n",
    "\n",
    "## Least Squares Method\n",
    "\n",
    "The method of fitting the linear model to the training set involves finding the coefficients $ \\hat{\\mathbf{w}} $. This is done by minimizing the Residual Sum of Squares (RSS).\n",
    "\n",
    "- **Residual Sum of Squares (RSS):**\n",
    "\n",
    "    $$\n",
    "    \\text{RSS}(\\mathbf{w}) = \\sum_{i} (y_i - \\mathbf{x}_i^T \\mathbf{w})^2\n",
    "    $$\n",
    "\n",
    "## Weighted Least Squares (WRSS)\n",
    "\n",
    "In weighted least squares, each sample has a weight $ d_i $. The weighted residual sum of squares (WRSS) adjusts the RSS by multiplying each residual by the weight of the corresponding sample.\n",
    "\n",
    "- **Weighted Residual Sum of Squares (WRSS):**\n",
    "\n",
    "    $$\n",
    "    \\text{WRSS}(\\mathbf{w}) = \\sum_{i} d_i (y_i - \\mathbf{x}_i^T \\mathbf{w})^2\n",
    "    $$\n",
    "\n",
    "Here, $ \\mathbf{x}_i $ represents the feature vector for the $ i $-th sample, $ y_i $ is the observed output, and $ d_i $ is the weight assigned to the $ i $-th sample.\n",
    "\n",
    "Now the goal is to minimize the WRSS to find the optimal weights. The following steps are taken to solve the equation.\n",
    "\n",
    "- Matrix notation WRSS:\n",
    "\n",
    "$$\n",
    "\\text{WRSS}(\\mathbf{w}) = (\\mathbf{y} - \\mathbf{X}\\mathbf{w})^T \\mathbf{D} (\\mathbf{y} - \\mathbf{X}\\mathbf{w})\n",
    "$$\n",
    "\n",
    "- Expansion WRSS:\n",
    "\n",
    "$$\n",
    "\\text{WRSS}(\\mathbf{w}) = \\mathbf{y}^T \\mathbf{D} \\mathbf{y} - 2 \\mathbf{w}^T \\mathbf{X}^T \\mathbf{D} \\mathbf{y} + \\mathbf{w}^T \\mathbf{X}^T \\mathbf{D} \\mathbf{X} \\mathbf{w}\n",
    "$$\n",
    "\n",
    "- Take the derivative of WRSS with respect to $ \\mathbf{w} $ (since WRSS is in matrix-form, the derivative is a gradient)\n",
    "\n",
    "$$\n",
    "\\frac{\\partial}{\\partial \\mathbf{w}} \\left[ \\mathbf{y}^T \\mathbf{D} \\mathbf{y} - 2 \\mathbf{w}^T \\mathbf{X}^T \\mathbf{D} \\mathbf{y} + \\mathbf{w}^T \\mathbf{X}^T \\mathbf{D} \\mathbf{X} \\mathbf{w} \\right] = 0\n",
    "$$\n",
    "\n",
    "- To find the minimum, set this gradient to zero:\n",
    "\n",
    "$$\n",
    "-2 \\mathbf{X}^T \\mathbf{D} \\mathbf{y} + 2 \\mathbf{X}^T \\mathbf{D} \\mathbf{X} \\mathbf{w} = 0\n",
    "$$\n",
    "\n",
    "- Solve for $ \\mathbf{w} $\n",
    "\n",
    "- Rewrite the terms to solve for \\( \\mathbf{w} \\):\n",
    "\n",
    "$$\n",
    "\\mathbf{X}^T \\mathbf{D} \\mathbf{X} \\mathbf{w} = \\mathbf{X}^T \\mathbf{D} \\mathbf{y}\n",
    "$$\n",
    "\n",
    "- **Solution**\n",
    "\n",
    "$$\n",
    "\\mathbf{w} = (\\mathbf{X}^T \\mathbf{D} \\mathbf{X})^{-1} \\mathbf{X}^T \\mathbf{D} \\mathbf{y}\n",
    "$$\n",
    "\n",
    "\n"
   ]
  },
  {
   "cell_type": "markdown",
   "metadata": {},
   "source": [
    "### $k$-NN classification\n",
    "\n",
    "Implement a $k$-Nearest neighbors classifier from scratch in Python using only basic matrix operations with `numpy` and `scipy`. Train and evaluate the classifier on the breast cancer dataset, using all features. Show the performance of the classifier for different values of $k$ (plot the results in a graph). Note that for optimal results, you should normalize the features (e.g. to the $[0, 1]$ range or to have a zero mean and unit standard deviation)."
   ]
  },
  {
   "cell_type": "code",
   "execution_count": 6,
   "metadata": {},
   "outputs": [
    {
     "data": {
      "image/png": "[encoded data removed]",
      "text/plain": [
       "<Figure size 1440x432 with 1 Axes>"
      ]
     },
     "metadata": {
      "needs_background": "light"
     },
     "output_type": "display_data"
    }
   ],
   "source": [
    "import scipy\t\n",
    "import numpy as np\n",
    "from sklearn.datasets import  load_breast_cancer\n",
    "import matplotlib.pyplot as plt\n",
    "from matplotlib.colors import ListedColormap\n",
    "\n",
    "\n",
    "breast_cancer = load_breast_cancer()\n",
    "X = breast_cancer.data  # features\n",
    "y = breast_cancer.target  # labels\n",
    "\n",
    "X_min = X.min(axis=0)\n",
    "X_max = X.max(axis=0)\n",
    "X_norm = (X - X_min) / (X_max - X_min)\n",
    "\n",
    "\n",
    "#shuffle the data\n",
    "def train_test_split(X,y,test_size=0): # X is data , Y is target , test_size is percentage split\n",
    "    indices = np.arange(X.shape[0]) # create list of indices\n",
    "    np.random.shuffle(indices) # random shuffle to create randomized data selection for split\n",
    "    split_idx = int(X.shape[0] * (1 - test_size))\n",
    "    X_train, X_test = X[indices[:split_idx]], X[indices[split_idx:]]\n",
    "    y_train, y_test = y[indices[:split_idx]], y[indices[split_idx:]]\n",
    "    return X_train, X_test, y_train, y_test\n",
    "\n",
    "#KNN class to train the network\n",
    "class KNN_classification:\n",
    "    def __init__(self, k=0):\n",
    "        self.k = k\n",
    "    \n",
    "    def fit(self, X_train, y_train):\n",
    "        self.X_train = X_train\n",
    "        self.y_train = y_train\n",
    "    \n",
    "    def predict(self, X_test):\n",
    "        predictions = [] # store predictions\n",
    "        for test_point in X_test:\n",
    "            distances = np.linalg.norm(self.X_train - test_point, axis=1) #calculate the distance for all the test point to the train point (euclidean)\n",
    "            nearest_indices = np.argsort(distances)[:self.k] # find the k points close to the test point\n",
    "            nearest_labels = self.y_train[nearest_indices] # get the label\n",
    "            prediction = np.argmax(np.bincount(nearest_labels)) # count occurence label among the nearest neighbour (highest value becomes the label of this zone)\n",
    "            predictions.append(prediction)\n",
    "        return np.array(predictions)\n",
    "    \n",
    "    def accuracy(self, y_true, y_pred):\n",
    "        accurate_predicted=np.sum(y_true == y_pred) / len(y_true) # determine number of accurate predictions\n",
    "        return accurate_predicted\n",
    "    \n",
    "X_train, X_test, y_train, y_test = train_test_split(X_norm, y, test_size=0.2) # Create the test and train data, modify the test_size value to create different split\n",
    "k_values = list(range(1, 300)) #iterate over different k values, modify this value to determine the number of neighbours\n",
    "accuracies = [] #store the accuracies\n",
    "\n",
    "for k in k_values:\n",
    "    knn = KNN_classification(k=k) #initialize the k value\n",
    "    knn.fit(X_train, y_train) #fit the train data\n",
    "    y_pred = knn.predict(X_test)\n",
    "    accuracy = knn.accuracy(y_test, y_pred)\n",
    "    accuracies.append(accuracy)\n",
    "\n",
    "plt.figure(figsize=(20, 6))\n",
    "plt.plot(k_values, accuracies, color='b')  \n",
    "plt.title('k-NN Classifier Accuracy for different k (Breast Cancer Dataset)')\n",
    "plt.xlabel('Number of Neighbors (k)')\n",
    "plt.ylabel('Accuracy')\n",
    "# plt.xticks(k_values)\n",
    "plt.grid(False)  \n",
    "plt.show()\n"
   ]
  },
  {
   "cell_type": "markdown",
   "metadata": {},
   "source": [
    "### $k$-NN regression\n",
    "\n",
    "Modify the $k$-NN implementation to do regression instead of classification. Compare the performance of the linear regression model and the $k$-NN regression model on the diabetes dataset for different values of $k$.."
   ]
  },
  {
   "cell_type": "code",
   "execution_count": 7,
   "metadata": {},
   "outputs": [
    {
     "data": {
      "image/png": "[encoded data removed]",
      "text/plain": [
       "<Figure size 1440x432 with 1 Axes>"
      ]
     },
     "metadata": {
      "needs_background": "light"
     },
     "output_type": "display_data"
    }
   ],
   "source": [
    "from sklearn.datasets import load_diabetes\n",
    "diabetes=load_diabetes()\n",
    "X_dia = diabetes.data  # features\n",
    "y_dia= diabetes.target  # labels\n",
    "\n",
    "#Normalize\n",
    "X_min = X_dia.min(axis=0)\n",
    "X_max = X_dia.max(axis=0)\n",
    "X_norm = (X_dia - X_min) / (X_max - X_min)\n",
    "\n",
    "#shuffle the data\n",
    "def train_test_split(X,y,test_size=0): # X is data , Y is target , test_size is percentage split\n",
    "    indices = np.arange(X.shape[0]) # create list of indices\n",
    "    np.random.shuffle(indices) # random shuffle to create randomized data selection for split\n",
    "    split_idx = int(X.shape[0] * (1 - test_size))\n",
    "    X_train, X_test = X[indices[:split_idx]], X[indices[split_idx:]]\n",
    "    y_train, y_test = y[indices[:split_idx]], y[indices[split_idx:]]\n",
    "    return X_train, X_test, y_train, y_test\n",
    "\n",
    "#KNN class to train the network\n",
    "class KNN_regression:\n",
    "    def __init__(self, k=0):\n",
    "        self.k = k\n",
    "    \n",
    "    def fit(self, X_train, y_train):\n",
    "        self.X_train = X_train\n",
    "        self.y_train = y_train\n",
    "    \n",
    "    def predict(self, X_test):\n",
    "        predictions = []  # Store predictions\n",
    "        for test_point in X_test:\n",
    "            distances = np.linalg.norm(self.X_train - test_point, axis=1)#calculate the distance for all the test point to the train point (euclidean)\n",
    "            nearest_indices = np.argsort(distances)[:self.k]# find the k points close to the test point\n",
    "            nearest_labels = self.y_train[nearest_indices]# get the label\n",
    "            prediction = np.mean(nearest_labels) # get the mean of the nearest_label\n",
    "            predictions.append(prediction)\n",
    "        return np.array(predictions)\n",
    "    \n",
    "    def MSE(self, y_true, y_pred):\n",
    "        # For regression MSE is used\n",
    "        mse = np.mean((y_true - y_pred) ** 2)\n",
    "        return mse\n",
    "X_train, X_test, y_train, y_test = train_test_split(X_norm, y_dia, test_size=0.2) # Create the test and train data, modify the test_size value to create different split\n",
    "k_values = list(range(1, 300)) #iterate over different k values, modify this value to determine the number of neighbours\n",
    "MSE_list = [] #store the accuracies\n",
    "\n",
    "for k in k_values:\n",
    "    knn = KNN_regression(k=k) #initialize the k value\n",
    "    knn.fit(X_train, y_train) #fit the train data\n",
    "    y_pred = knn.predict(X_test)\n",
    "    MSE = knn.MSE(y_test, y_pred)\n",
    "    MSE_list.append(MSE)\n",
    "\n",
    "plt.figure(figsize=(20, 6))\n",
    "plt.plot(k_values, MSE_list, color='b')  \n",
    "plt.title('MSE of the regression')\n",
    "plt.xlabel('Number of Neighbors (k)')\n",
    "plt.ylabel('MSE')\n",
    "# plt.xticks(k_values)\n",
    "plt.grid(False)  \n",
    "plt.show()\n"
   ]
  },
  {
   "cell_type": "markdown",
   "metadata": {},
   "source": [
    "### Class-conditional probability\n",
    "\n",
    "Compute and visualize the class-conditional probability (conditional probability where the class label is the conditional variable, i.e. $P(X = x \\mid Y = y_i)$ for all features in the breast cancer dataset. Assume a Gaussian distribution.\n",
    "\n",
    "<p><font color='#770a0a'>Based on visual analysis of the plots, which individual feature can best discriminate between the two classes? Motivate your answer.</font></p>\n",
    "\n"
   ]
  }
 ],
 "metadata": {
  "kernelspec": {
   "display_name": "Python 3",
   "language": "python",
   "name": "python3"
  },
  "language_info": {
   "codemirror_mode": {
    "name": "ipython",
    "version": 3
   },
   "file_extension": ".py",
   "mimetype": "text/x-python",
   "name": "python",
   "nbconvert_exporter": "python",
   "pygments_lexer": "ipython3",
   "version": "3.6.13"
  }
 },
 "nbformat": 4,
 "nbformat_minor": 2
}
