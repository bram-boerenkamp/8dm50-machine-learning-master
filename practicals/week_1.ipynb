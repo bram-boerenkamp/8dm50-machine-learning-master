{
 "cells": [
  {
   "cell_type": "markdown",
   "metadata": {},
   "source": [
    "# Getting started with the practicals\n",
    "\n",
    "***These notebooks are best viewed in Jupyter. GitHub might not display all content of the notebook properly.***\n",
    "\n",
    "## Goal of the practical exercises\n",
    "\n",
    "The exercises have two goals:\n",
    "\n",
    "1. Give you the opportunity to obtain 'hands-on' experience in implementing, training and evaluation machine learning models in Python. This experience will also help you better understand the theory covered during the lectures. \n",
    "\n",
    "2. Occasionally demonstrate some 'exam-style' questions that you can use as a reference when studying for the exam. Note however that the example questions are (as the name suggests) only examples and do not constitute a complete and sufficient list of 'things that you have to learn for the exam'. You can recognize example questions as (parts of) exercises by <font color=\"#770a0a\">this font color</font>.\n",
    "\n",
    "For each set of exercises (one Python notebook such as this one $==$ one set of exercises) you have to submit deliverables that will then be graded and constitute 25% of the final grade. Thus, the work that you do during the practicals has double contribution towards the final grade: as 25% direct contribution and as a preparation for the exam that will define the other 65% of the grade.\n",
    "\n",
    "## Deliverables\n",
    "\n",
    "For each set of exercises, you have to submit:\n",
    "1. Python functions and/or classes (`.py` files) that implement basic functionalities (e.g. a $k$-NN classifier) and \n",
    "2. A *single* Python notebook that contains the experiments, visualization and answer to the questions and math problems. *Do not submit your answers as Word or PDF documents (they will not be graded)*. The submitted code and notebook should run without errors and be able to fully reproduce the reported results.\n",
    "\n",
    "We recommend that you clone the provided notebooks (such as this one) and write your code in them. The following rubric will be used when grading the practical work:\n",
    "\n",
    "Component  | Insufficient | Satisfactory | Excellent\n",
    "--- | --- | --- | ---\n",
    "**Code** | Missing or incomplete code structure, runs with errors, lacks documentation | Self-contained, does not result in errors, contains some documentation, can be easily used to reproduce the reported results | User-friendly, well-structured (good separation of general functionality and experiments, i.e. between `.py` files and the Pyhthon notebook), detailed documentation, optimized for speed, <s>use of a version control system (such as GitHub)</s>\n",
    "**Answers to questions** | Incorrect, does not convey understanding of the material, appears to be copied from another source | Correct, conveys good understanding of the material, description in own words | Correct, conveys excellent level of understanding, makes connections between topics\n",
    "\n",
    "## A word on notation\n",
    "\n",
    "When we refer to Python variables, we will use a monospace font. For example, `X` is a Python variable that contains the data matrix. When we refer to mathematical variables, we will use the de-facto standard notation: $a$ or $\\lambda$ is a scalar variable, $\\boldsymbol{\\mathrm{w}}$ is a vector and $\\boldsymbol{\\mathrm{X}}$ is a matrix (e.g. a data matrix from the example above). You should use the same notation when writing your answers and solutions.\n",
    "\n",
    "# Two simple machine learning models\n",
    "\n",
    "## Preliminaries\n",
    "\n",
    "Throughout the practical curriculum of this course, we will use the Python programming language and its ecosystem of libraries for scientific computing (such as `numpy`, `scipy`, `matplotlib`, `scikit-learn` etc). The practicals for the deep learning part of the course will use the `keras` deep learning framework. If you are not sufficiently familiar with this programming language and/or the listed libraries and packages, you are strongly advised to go over the corresponding tutorials from the ['Essential skills'](https://github.com/tueimage/essential-skills) module (the `scikit-learn` library is not covered by the tutorial, however, an extensive documentation is available [here](https://scikit-learn.org/stable/documentation.html).\n",
    "\n",
    "In this first set of exercises, we will use two toy datasets that ship together with `scikit-learn`. \n",
    "\n",
    "The first dataset is named `diabetes` and contains 442 patients described with 10 features: age, sex, body mass index, average blood pressure, and six blood serum measurements. The target variable is a continuous quantitative measure of the disease (diabetes) progression one year after the baseline measurements were recorded. More information is available [here](https://github.com/scikit-learn/scikit-learn/blob/master/sklearn/datasets/descr/diabetes.rst) and [here](https://www4.stat.ncsu.edu/~boos/var.select/diabetes.html).\n",
    "\n",
    "The second dataset is named `breast_cancer` and is a copy of the UCI ML Breast Cancer Wisconsin (Diagnostic) datasets (more infortmation is available [here](https://github.com/scikit-learn/scikit-learn/blob/master/sklearn/datasets/descr/breast_cancer.rst) and [here](https://archive.ics.uci.edu/ml/datasets/Breast+Cancer+Wisconsin+(Diagnostic)). The datasets contains of 569 instances represented with 30 features that are computed from a images of a fine needle aspirate of a breast mass. The features describe characteristics of the cell nuclei present in the image. Each instance is associated with a binary target variable ('malignant' or 'benign'). \n",
    "\n",
    "You can load the two datasets in the following way:"
   ]
  },
  {
   "cell_type": "code",
   "execution_count": 1,
   "metadata": {},
   "outputs": [],
   "source": [
    "import numpy as np\n",
    "from sklearn.datasets import load_diabetes, load_breast_cancer\n",
    "\n",
    "diabetes = load_diabetes()\n",
    "\n",
    "breast_cancer = load_breast_cancer()"
   ]
  },
  {
   "cell_type": "markdown",
   "metadata": {},
   "source": [
    "In the majority of the exercises in this course, we will use higher-level libraries and packages such as `scikit-learn` and `keras` to implement, train and evaluate machine learning models. However, the goal of this first set of exercises is to illustrate basic mathematical tools and machine learning concepts. Because of this, we will impose a restriction of only using basic `numpy` functionality. Furthermore, you should as much as possible restrict the use of for-loops (e.g. use a vector-to-matrix product instead of a for loop when appropriate).\n",
    "\n",
    "If `X` is a 2D data matrix, we will use the convention that the rows of the matrix contain the samples (or instances) and the columns contain the features (inputs to the model). That means that a data matrix with a shape `(122, 13)` represents a dataset with 122 samples, each represented with 13 features. Similarly, if `Y` is a 2D matrix containing the targets, the rows correspond to the samples and the columns to the different targets (outputs of the model). Thus, if the shape of `Y` is `(122, 3)` that means that there are 122 samples and each sample is has 3 targets (note that in the majority of the examples we will only have a single target and thus the number of columns of `Y` will be 1).\n",
    "\n",
    "You can obtain the data and target matrices from the two datasets in the following way:"
   ]
  },
  {
   "cell_type": "code",
   "execution_count": 2,
   "metadata": {},
   "outputs": [
    {
     "name": "stdout",
     "output_type": "stream",
     "text": [
      "(442, 10)\n",
      "(442, 1)\n"
     ]
    }
   ],
   "source": [
    "X = diabetes.data\n",
    "Y = diabetes.target[:, np.newaxis]\n",
    "\n",
    "print(X.shape)\n",
    "print(Y.shape)"
   ]
  },
  {
   "cell_type": "markdown",
   "metadata": {},
   "source": [
    "If you want to only use a subset of the available features, you can obtain a reduced data matrix in the following way:"
   ]
  },
  {
   "cell_type": "code",
   "execution_count": 3,
   "metadata": {
    "scrolled": true
   },
   "outputs": [
    {
     "name": "stdout",
     "output_type": "stream",
     "text": [
      "(442, 1)\n",
      "(442, 2)\n"
     ]
    }
   ],
   "source": [
    "# use only the fourth feature\n",
    "X = diabetes.data[:, np.newaxis, 3]\n",
    "print(X.shape)\n",
    "\n",
    "# use the third, and tenth features\n",
    "X = diabetes.data[:, (3,9)]\n",
    "print(X.shape)"
   ]
  },
  {
   "cell_type": "markdown",
   "metadata": {},
   "source": [
    "***Question***: Why we need to use the `np.newaxis` expression in the examples above? \n",
    "\n",
    "Note that in all your experiments in the exercises, you should use and independent training and testing sets. You can split the dataset into a training and testing subsets in the following way:"
   ]
  },
  {
   "cell_type": "code",
   "execution_count": 4,
   "metadata": {},
   "outputs": [
    {
     "name": "stdout",
     "output_type": "stream",
     "text": [
      "(300, 1)\n",
      "(300, 1)\n",
      "(142, 1)\n",
      "(142, 1)\n"
     ]
    }
   ],
   "source": [
    "# use the fourth feature\n",
    "# use the first 300 training samples for training, and the rest for testing\n",
    "X_train = diabetes.data[:300, np.newaxis, 3]\n",
    "y_train = diabetes.target[:300, np.newaxis]\n",
    "X_test = diabetes.data[300:, np.newaxis, 3]\n",
    "y_test = diabetes.target[300:, np.newaxis]\n",
    "print(X_train.shape)\n",
    "print(y_train.shape)\n",
    "print(X_test.shape)\n",
    "print(y_test.shape)"
   ]
  },
  {
   "cell_type": "markdown",
   "metadata": {},
   "source": [
    "## Exercises\n",
    "\n",
    "### Linear regression\n",
    "\n",
    "Implement training and evaluation of a linear regression model on the diabetes dataset using only matrix multiplication, inversion and transpose operations. Report the mean squared error of the model.\n",
    "\n",
    "To get you started we have implemented the first part of this exercise (fitting of the model) as an example."
   ]
  },
  {
   "cell_type": "code",
   "execution_count": 5,
   "metadata": {},
   "outputs": [
    {
     "name": "stdout",
     "output_type": "stream",
     "text": [
      "[[ 152.34786452]\n",
      " [ -16.57607993]\n",
      " [-254.66532396]\n",
      " [ 560.98630022]\n",
      " [ 278.91811152]\n",
      " [-393.41357305]\n",
      " [  97.05460405]\n",
      " [ -19.0023093 ]\n",
      " [ 169.46450327]\n",
      " [ 632.95050374]\n",
      " [ 114.21638941]]\n"
     ]
    }
   ],
   "source": [
    "# add subfolder that contains all the function implementations\n",
    "# to the system path so we can import them\n",
    "import sys\n",
    "sys.path.append('code/')\n",
    "\n",
    "# the actual implementation is in linear_regression.py,\n",
    "# here we will just use it to fit a model\n",
    "from linear_regression import *\n",
    "\n",
    "# load the dataset\n",
    "# same as before, but now we use all features\n",
    "X_train = diabetes.data[:300, :]\n",
    "y_train = diabetes.target[:300, np.newaxis]\n",
    "X_test = diabetes.data[300:, :]\n",
    "y_lest = diabetes.target[300:, np.newaxis]\n",
    "\n",
    "beta = lsq(X_train, y_train)\n",
    "\n",
    "# print the parameters\n",
    "print(beta)"
   ]
  },
  {
   "cell_type": "markdown",
   "metadata": {},
   "source": [
    "### Weighted linear regression\n",
    "\n",
    "Assume that in the dataset that you use to train a linear regression model, there are identical versions of some samples. This problem can be reformulated to a weighted linear regression problem where the matrices $\\boldsymbol{\\mathrm{X}}$ and $\\boldsymbol{\\mathrm{Y}}$ (or the vector $\\boldsymbol{\\mathrm{y}}$ if there is only a single target/output variable) contain only the unique data samples, and a vector $\\boldsymbol{\\mathrm{d}}$ is introduced that gives more weight to samples that appear multiple times in the original dataset (for example, the sample that appears 3 times has a corresponding weight of 3). \n",
    "\n",
    "<p><font color='#770a0a'>Derive the expression for the least-squares solution of a weighted linear regression model (note that in addition to the matrices $\\boldsymbol{\\mathrm{X}}$ and $\\boldsymbol{\\mathrm{Y}}$, the solution should include a vector of weights $\\boldsymbol{\\mathrm{d}}$).</font></p>"
   ]
  },
  {
   "cell_type": "markdown",
   "metadata": {},
   "source": [
    "The residual sum of squares is defined as: \n",
    "$$\n",
    "\\text{RSS}(w) = \\sum_{i=1}^{N} \\left( y_i - \\mathbf{x}_i^T \\mathbf{w} \\right)^2\n",
    "$$\n",
    "\n",
    "The weighted residual sum of squares is then defined as: \n",
    "$$\n",
    "\\text{WRSS}(w) = \\sum_{i=1}^{N} d_i \\left ( y_i - \\mathbf{x}_i^T \\mathbf{w} \\right)^2\n",
    "$$\n",
    "\n",
    "The weights will be given in a diagonal matrix with the weights on the diagonal. In that way, the multiplication can be done with vectors, so with the multiplication $WRSS_i$ will be multiplied by $d_i$.\n",
    "\n",
    "$$\n",
    "\\mathbf{D} = \\begin{pmatrix}\n",
    "d_1 & 0   & \\cdots & 0   \\\\\n",
    "0   & d_2 & \\cdots & 0   \\\\\n",
    "\\vdots & \\vdots & \\ddots & \\vdots \\\\\n",
    "0   & 0   & \\cdots & d_N\n",
    "\\end{pmatrix}\n",
    "$$\n",
    "\n",
    "Written in matrix notation, it gives: \n",
    "\n",
    "$$\n",
    "\\text{WRSS}(w) = (y-Xw)^T D (y-Xw)\n",
    "$$\n",
    "\n",
    "It can be written as: \n",
    "$$\n",
    "\\text{WRSS}(w) = (y-Xw)^T D (y-Xw)\n",
    "$$\n",
    "$$\n",
    "= (y^T - w^T X^T) D (y - Xw)\n",
    "$$\n",
    "$$\n",
    "= y^T Dy - w^T X^T Dy - y^T DXw + w^T X^T DXw\n",
    "$$\n",
    "\n",
    "$y^T DXw$ can be rewritten as:\n",
    "\n",
    "$$y^T DXw = (w^T X^T D^T y)^T$$\n",
    "\n",
    "Since $w^T X^T D^T y$ results in a scalar, and the transpose of a scalar is a scalar, the following applies: \n",
    "\n",
    "$$\n",
    "(w^T X^T D^T y)^T = w^T X^T D^T y\n",
    "$$\n",
    "\n",
    "Furthermore, since $D$ is a diagonal matrix, $D^T = D$. Therefore, $WRSS$ can be further rewritten as: \n",
    "\n",
    "$$\n",
    "\\text{WRSS}(w) = y^T Dy - 2 w^T X^T Dy + w^T X^T DXw\n",
    "$$\n",
    "\n",
    "For finding the $w$ that minimizes the $WRSS$, the derivative is taken with respect to $w$ which results in the following: \n",
    "\n",
    "$$\n",
    "\\frac{\\partial \\text{WRSS}(w)}{\\partial w} = -2X^T D(y - Xw) = 0\n",
    "$$\n",
    "\n",
    "For checking whether it is a minimum, the derivative with respect to $w$ is taken again. This results in $2X^T DX$. As long as $X$ is full rank, it is a positive definite matrix and therefore a minimum. \n",
    "\n",
    "The last equation can be rewritten as: \n",
    "$$\n",
    "X^T DXw = X^T Dy\n",
    "$$\n",
    "\n",
    "If $X^T D X$ is non-singular there exist a unique solution given by $w = (X^T DX) ^{-1} X^T Dy $"
   ]
  },
  {
   "cell_type": "markdown",
   "metadata": {},
   "source": [
    "### $k$-NN classification\n",
    "\n",
    "Implement a $k$-Nearest neighbors classifier from scratch in Python using only basic matrix operations with `numpy` and `scipy`. Train and evaluate the classifier on the breast cancer dataset, using all features. Show the performance of the classifier for different values of $k$ (plot the results in a graph). Note that for optimal results, you should normalize the features (e.g. to the $[0, 1]$ range or to have a zero mean and unit standard deviation)."
   ]
  },
  {
   "cell_type": "code",
   "execution_count": 8,
   "metadata": {},
   "outputs": [
    {
     "data": {
      "image/png": "iVBORw0KGgoAAAANSUhEUgAABJUAAAGDCAYAAACSgyH/AAAAOXRFWHRTb2Z0d2FyZQBNYXRwbG90bGliIHZlcnNpb24zLjMuNCwgaHR0cHM6Ly9tYXRwbG90bGliLm9yZy8QVMy6AAAACXBIWXMAAAsTAAALEwEAmpwYAABN50lEQVR4nO3dd5hdZbX48e9KQggl9KjUgEKACQLKSBEVBFFBpclEwIIXLNwr6r2Kyr36Uy52vRasWEBQEcyA0qRKsYHCBGkJRZp0CL0HSNbvj3cf52QykzmTzJlzJvP9PM95ztnvbmvv2TnJrLzrfSMzkSRJkiRJkoZiXKsDkCRJkiRJ0uhjUkmSJEmSJElDZlJJkiRJkiRJQ2ZSSZIkSZIkSUNmUkmSJEmSJElDZlJJkiRJkiRJQ2ZSSZLUUhFxe0S8odVxLE5EHBkRv2zi8WdHxM7V54iIn0XEIxFxeUS8NiJubNa5l2URsWNE/CMinoyIvZtw/PdGxJ/rlp+MiJdWn1eIiDMj4rGI6K7avhARD0bEfcMdy9Lqey0NbN8RET0REc2MS8uGiNgyIi5tdRySpOFnUkmSNGpUyZ2MiBl1bROqtg2r5eOr5W3rttk4InKQYx9Y/ZL8ZETcGxHnRMRrmnYxdTJzemZeUi2+BtgNWC8zt83MP2XmpsN9zrp7ud1wH7uNHAV8LzNXzszTmn2y6jy3Vov7AS8G1szMrojYAPg40JGZL2l2LH1VP+uNh/GQnwf+LzOzOv7tEfFM9efnkYj4XUSsP4zna0j15/8Lg2wTEfGRiLguIp6KiLsiojsiXj5ScS6JiLgkIp6NiCci4vGImBURR0TE8kM4xnA/Bw2dJzOvAR6NiLc1+9ySpJFlUkmSNNo8DPxvRIwfZJvF/mJZLyI+Bnwb+BIlEbAB8ANgryUPc4lNBW7PzKeW9kARMWGA9gDeQ7lP71na8wxHTE0yFZi9JDsOQ5xTgZsy84VqeQPgocx8YAliiYhom3+zRcTawOuB0/qseltmrgysDdwPfHcxx1jcn99mOxr4KPARYA1gGuVa3tLCmBaymPtzWGZOptzjjwP7A2ePkh5jJwIfbHUQkqTh1Tb/QJEkKSI2j4jbIuKAxWx2LvAc8K7FbHMCsGVE7NTAOVel9Gj5UGb+JjOfysznM/PMzPzEAPt0R8R9VWnTHyNiet26PSJiTtWb4O6IOLxqXysizoqIRyPi4Yj4Uy1RUPXyeENEHAL8FNih6vHxvxGxc0TcVXf8dSLi1IiYW92rj9StOzIiTomIX0bE48B7B7js11J+Kf0IsH9ETKw7xgoR8Y2I+Gd1fX+OiBWqda+JiEura7gzIt5btV8SEe+rO0bfsrCMiA9FxD+Af1RtR1fHqPW4eG3d9uMj4n8i4pbqPs6KiPUj4vsR8Y0+P4szIuK/+vkZ3QK8FDizupfLV/fujOr+3xwR7x/KvYuINav9H4+Iy4GX9VmfUXrF/S/wWeAd1bk/CFwArFMtH19tv33d/bw6qhLIunv6xYj4C/A08NKI2CwiLqjivzEW7rF3fHV/flfds79FxMuqdX+sNru6Ov87+l5bP9f69epnv2o/q3cDrszMZ/vbt2o/BejoE98PI+LsiHgKeP0gz/K2EXFZdW/ujYjv1Z7TKL4VEQ9UP4trI2KLiPgA8E7gk9V1ntnPdW0CfAg4IDMvysx5mfl0Zp6YmV+ptnlLRPy9OvadEXFk3f4bVj/ngyLijijljJ+uW9/vs1utG+znt9D9WdzPp/qeugTYE9iBKiE2yH1b5DmIiNWjfC/NjdLD7KyIWK8urvdGxK3VtdwWEe+sW3dwRFxf7XdeREwd6DzV8iXArjGEnlWSpFEgM3358uXLl6+WvYDbgTcArwTuAN66mG2PBH5J+UXqVmA5YAKQwIbVNsdTeil9BPhz1bZx+Suv32O+GXgBmDDYeeuWDwYmA8tTejhdVbfuXuC11efVgVdWn78MHFPFvBwlsRP196D6/N5a3NXyzsBd1edxwCxKwmIiJWlyK/CmujifB/autl1hgOs5FphZxfEQ8Pa6dd+n/PK3LjAeeHV1nVOBJ4ADqv3WBLau9rkEeF/dMfpeQ1KSKmvUYqIkBdesfn4fB+4DJlXrPgFcC2wKBLBVte22wD3AuGq7tSgJlxcv7tmqW/4jpQfaJGBrYC6wS6P3Dji5um8rAVsAd/dznRsP8Mz86+dYLa9b3fs9qvPtVi1PqbundwDTq3u0KnAn8G/V8iuABynldFCe+4eqezSB0ivk5P5iG+BevRf4cxXLT4DzgBUH2PbrwPcHutfAipTE7s/r1h8PPAbsWJ1jRRb/LG8DbF9dy4bA9cB/VuveVO27WvV8bA6sXf/nfzHXeSjwz0G+k3YGXl7FuSWl19Xe1boNq3v5E2AFyrM5D9h8kGd3pQZ+fvX3Z1I/cV1C3Z+zPs/1Vwe7b/09B1Vsb69+HpOBbuC0at1KwOPAptXy2sD06vNewM3VvZ8AfAa4dLDnrTrelou7/758+fLla3S97KkkSWoHrwXOAN6TmWcNtnFmnkFJCLxvMZv9CNggInYf5HBrAg9mb5nSoDLzuMx8IjPnUZIHW9X16Hge6IiIVTLzkcy8sq59bWBqlp5Qf8rMxY7z1I9XUZIOR2Xmc1nG7/kJpQSm5rLMPC0zF2TmM30PEBErAl3ArzLzeUqPkvdU68ZREmYfzcy7M3N+Zl5aXeeBwO8z86Qq/ocy86ohxP7lzHy4FlNm/rI6xguZ+Q1K4qo2dtT7gM9k5o1ZXF1teznlF+9dq+32By7JzPsHO3nVW2RH4FOZ+WwV+09ZuPxvwHsXpRzp7cBns/QSuY6SOFlS7wLOzsyzq/NdAPRQkkw1x2fm7OrZfDOlLPJn1T37O3Aq5WdZ89vMvLza/kRK4mwolgNOoiT/3paZTw+w3WqUBGNfp0XEo5Sf0W6U5FO90zPzL5m5gJK0GfBZzsxZmfnX6lpvp/x5rvU8fJ6SANmMkpi9PjPvbfAa16QkfgeUmZdk5rXVz+Uayj3p2+vxfzPzmcy8GriakjyCAZ5d4K0M/vP71/3JAXqBDeAeys9ssPvW37U+lJmnZumt9QTwxT7bLwC2iIgVMvPezKyVkx5K+TN9ffW8fQnYutZbaTGeoDw/kqRlhEklSVI7OJTyv9yX1Boi4p1V6cSTEXFOP/t8Bvg0pdfJIqpEyOer1+I8BKwVDY6hU5W3fKUqb3mc0kMDSq8ZKImHPYB/RsQfImKHqv3rlP/ZP78qJzmikfP1MZVSQvVo7QX8D2UcqJo7BznGPpSeWWdXyycCu0fElOoaJgG39LPf+gO0N2qhuCLi8Kp05rHqOlal9x4u7lwn0Fv6+C7gFw2efx3g4eoX55p/UnoM9RtjH1MoPTLqt/lng+fuz1Sgq8/P8jWUxGN/8UwFtuuz/TuB+kG/62eVexpYeYgxbUzpgfK/mfncYrZ7hJLU6WvvzFyN8gwdBvwhIurj63s9Az7LETGtKsW6r/pz9iWq5yMzLwK+R+lV90BE/DgiVmnwGh9i4Xu8iIjYLiIurkrCHqN8P63VZ7OB7vVAz24jP7/B/uwOZF3K+GiLvW/9iYgVI+JHUcpdH6f0elotIsZnGdftHZTrvzdKaeVmdddzdN21PEzpmbVuP6epNxl4dAmvU5LUhkwqSZLawaGUXkXfqjVkGeNk5eq1SG+jqmfHzcB/LOa4P6P8r/i+i9nmMkr5yt4Nxnog5RfvN1ASIRtW7VHFdUVm7gW8iDL478yq/YnM/HhmvpRSvvexiNiVobkTuC0zV6t7Tc7M+t4tg/V+OojyC/AdUaa276b0UDmQUo7zLH3GCqo7d3/tAE9Rymdq+pvd7F9xRRk/6ZPADGD1KhHxGNU9HORcvwT2ioitKKU3pw2wXV/3AGtERH0yZANKCdsiMfZjLiUZVz+j2QYNnrs/dwK/6POzXCmrcX36iedO4A99tl85M/99KWLo63pKedY5EbG4GQevoQxu3a+qh9tvgPmURNm/VtV9HuxZ/iFwA7BJZq5CSTj9azDqzPxOZm5DGbdpGqXsrO85+nMhsF5EdC5mm19Rek6un5mrUspWGx0Ie6Bnt5Gf31B7LtZ64G0D/KlqWux968fHKT0Et6u2f13t0ACZeV5m7kZJxN1A6U1Wu54P9rmeFTLz0sXEui6l1PHGoV6nJKl9mVSSJLWDJyjlPa+LiK8MtnGdT1OSE/2qyjI+B3xqMds8RhnX5fsRsXf1P/fLRcTuEfG1fnaZTElCPURJpHyptiIiJlY9rFbNUlr2OKV8hIh4a5RBnIOSQJlfWzcElwNPRMSnogyoPT7KAMWvamTn6pe6XSmlOFtXr62Ar1JKDxcAxwHfjDKI8viI2KEaWPdE4A0RMSMiJkQZtHrr6tBXAftW925j4JBBQplMSdDMBSZExGeB+p4mPwU+HxGbRLFlRKwJkJl3AVdQeiid2rdMbSCZeSdwKfDliJgUEVtWcf6ywf3nA78Bjqyus4OSoFtSvwTeFhFvqu7zpCiDsq83wPZnAdMi4t3V87lcRLwqIjZv8Hz3U8YtWqzMPImSiPh9VAN99+MC4JUR0W8vwepnthdlTLHrBzjGYM/yZMqfnyer3jH/Sr5U171dRCxHSWg+S++fpcVeZ2b+gzKu1knV/Z5Y3fv9o7f34GRKr7ZnI2JbSsK1UQM9u0v781tI9QzuBJxOuZe1nocD3rdK3/szGXgGeDQi1qB8X9bO8eKI2CsiVqJ85z1J730+BvjvqCYpiIhVI6K+lK+/n8NOwEVVL1JJ0jLCpJIkqS1k5qOUcVh2j4jBStZq+/yF8gvV4pzE4GOofAP4GKWkbi7lf+EPo/9eMD+nlD3dDcwB/tpn/buB26tSkkMpJS4AmwC/p/xidhnwg8y8eJDY+8Y5n96E0G2UnkU/pfSYasS7KYOKn5+Z99VewHcos+VtARxOGWj4CkpJy1cpA2PfQSnr+3jVfhW948h8izIj3/2U8rQTB4njPMosfjdR7uWzLFz6801KD6/zKb8gH0sZFLnmBMqYPI2WvtUcQOlZdg/wW+Bzmfn7Iex/GKWX132UgZV/NsTz/0uV5NqLksCpPXOfYIB/m1Vle2+kjDl0TxXDVyljUTXiSOCEqlxpxuI2zMwTKDMiXhQRG/az/n7goir+emdGxJOUn9kXgYPqxuDpe4zBnuXDKcmcJyi9Y35dt/sqVdsjlOfnIXrHbzqWMqbZoxFx2gCX+BF6y+cepZSr7QPUZov7D+CoiHiCknCeOcBx+tPvszsMP7+a71Vx3U+ZJOBU4M1VQhgWf99g0efg25Q/Ww9SvsvOrdt2HOV78R7Kn/mdqJJUmfnbKv6Tq++664D6HqV9zwPlu/CYIV6vJKnN1WadkSRJGhUi4nWUnj5T03/ItETVU+sEYFt/BhpM1TPwR5m5w6AbS5JGFZNKkiRp1KhKnk4Grs7Mo1odjyRJ0lhm+ZskSRoVqvFnHqUMGvztlgYjSZIkeypJkiRJkiRp6OypJEmSJEmSpCEzqSRJkiRJkqQhm9DqAIbLWmutlRtuuGGrw5AkSZIkSVpmzJo168HMnNLfuqYllSLiOOCtwAOZuUU/6wM4GtgDeBp4b2ZeWa07CPhMtekXMvOEwc634YYb0tPTM1zhS5IkSZIkjXkR8c+B1jWz/O144M2LWb87sEn1+gDwQ4CIWAP4HLAdsC3wuYhYvYlxSpIkSZIkaYiallTKzD8CDy9mk72An2fxV2C1iFgbeBNwQWY+nJmPABew+OSUJEmSJEmSRlgrB+peF7izbvmuqm2g9kVExAcioicieubOndu0QCVJkiRJkrSwUT37W2b+ODM7M7NzypR+x4ySJEmSJElSE7QyqXQ3sH7d8npV20DtkiRJkiRJahOtTCqdAbwniu2BxzLzXuA84I0RsXo1QPcbqzZJkiRJkiS1iQnNOnBEnATsDKwVEXdRZnRbDiAzjwHOBvYAbgaeBv6tWvdwRHweuKI61FGZubgBvyVJkiRJkjTCmpZUyswDBlmfwIcGWHcccFwz4pIkSZIkSdLSG9UDdUuSJEmSJKk1TCpJkiRJkiRpyEwqSZIkSZIkaciaNqaSht/990MEvOhFi66bMwf++c/GjrPllrDuuou23347rLkmTJ68VGFKkiRJkqQxwKTSKPKOd8Bzz8Glly7c/uSTsO228NRTjR3nla+EWbMWbnvmGdh6azj4YPjmN4clXEmSJEmStAwzqTRKZMKVV8ITT5QeRRtu2LvurLNKQum446CjY/HH+e1v4atfhX/8AzbZpLf9nHPgscfKOSRJkiRJkgZjUmmUuPPOklAC6O6GT3yid93MmbD22vCe98D48Ys/zjrrlKRSdzf8z/8sfAyA2bOHN25JkiRJkrRscqDuUWLOnPK+4oolIVTz5JOll9Hb3z54Qglg/fVhhx0WPsYzz5TeTiuuCA8+CHPnDm/skiRJkiRp2WNSaZSo9SD60IfgiitKCRyUZNCzz0JXV+PH6uqCq64qJXBQklJPPVWOXX8uSZIkSZKkgZhUGiVmzy6zvh16aFk+5ZTy3t1dSt923LHxY+23X+++tfe11oL/+I+yXOsVJUmSJEmSNBCTSqPEnDkwfTq89KWwzTYlEfTkk3D22Y2XvtXUl8A98wyceSbsuy9MnQqrrGJPJUmSJEmSNDiTSqNAZm9SCUr52uWXw/e/P/TSt5paCdx3v1tK37q6IKKcw6SSJEmSJEkajEmlUaA281tHR1muJZE+9zl4yUuGVvpWUyuB++xnS+nbzjuX5Y4Oy98kSZIkSdLgTCqNArUkT62nUq0Ebt68khwaSulbTa0Ebt68Uvo2YULvOebOXXQGuGefhcce6//17LNLfm2SJEmSJGl0Mqk0CtTK0WpJJYAZM8r7kpS+Le4YtXPU91a6++7Sm2m11QZ+3XTTkschSZIkSZJGnwmtDkCDmzOnzPy25pq9bYcdBhtvDK997ZIf99BDS4+lXXftbauV2M2eDTvtVD53d5dxlz7/eVhppYWP8fzzcMQRcNJJpRxPkiRJkiSNDZGZrY5hWHR2dmZPT0+rw2iK7beHFVeEiy5q/rkyS8+jd72rDAQOZcymJ5+Eq6/uf5/XvQ4efhiuu6758UmSJEmSpJETEbMys7O/dZa/tbm+M781W20GuFr52513wqWX9pbK9WfGjNKzyQG+JUmSJEkaO0wqtbm77lp45reR0NHRO47TqaeW98WN3fT2t5dkVHd382OTJEmSJEntwaRSm+tvkO5mq58BrrsbttwSpk0bePu114bXvMakkiRJkiRJY4lJpTbXqqQSwPnnl9K3RmaY6+qyBE6SJEmSpLHEpFKb62/mt2arldp94QvlvZGkkiVwkiRJkiSNLSaV2tzs2SPbSwlg3XVhlVXghhtK6dummw6+zzrrWAInSZIkSdJYYlKpjY30zG81tRngoLFeSjWWwEmSJEmSNHaYVGozX/xiKT/r6IDNNx/5md9qauccSlKpVgK3226917C41yc/ObSYnnsO9t4b/vrXRdf985/wxjfCAw8M7ZiSJEmSJGnJTGh1AFrY2mvDFlv0Lm+7Ley118jH8e//Dpts0ljpW80668CXvwyzZg2+7U03wbe/Df/zP7Daao0df84cOP10mDQJTj554XXHHgsXXAAXXwzveEfjMUuSJEmSpCVjUqnNHHxwebXaNtuU11B96lONbfe3v8H225ck0UEHNbZPbSa8s86Cp5+GFVcsy5m9YznVtpEkSZIkSc1l+ZtaYtttYYMNYObMxvepjdX01FNwzjm97bNnl0HF67eRJEmSJEnNZVJJLRFRxmu64AJ49NHG9pk9G6ZNgylTFp5lbuZMGDcOdtjBnkqSJEmSJI0Uk0pqma4ueP75UgLXiNmzYcstYZ99ekvgaqVvr3sdvP718I9/lAG9JUmSJElSc5lUUsvUSuDqex0N5Jln4NZbYfp0mDGjtwSuVvo2Y0ZZN39+GQRckiRJkiQ1l0kltUytBO788wcvgbvxRliwADo6YKedYK21SjKqu7uUvu27b1kHlsBJkiRJkjQSTCqppRotgasliqZPhwkTShLprLPgV78qpW8vfjFstllJMDlYtyRJkiRJzWdSSS3VaAncnDklmbTJJmW5q6uUwN18c/kMMGkSvOxl9lSSJEmSJGkkTGh1ABrbaiVw3/kOvO99ve0HHQSvfW3v8uzZJaE0cWJZ3nnnUgL38MOl11JNR8eiPZVuuAG+9a0y3tJwGT8e/uu/Su8oSZIkSZLGIpNKarmDD4bTToNzzy3LDz1UEkOXXtq7zezZsPXWvcsTJsAnPwm33w4veUlv+/Tp8LvflRngagmor3wFTjyxlMgNl/vvh2efhRNOGL5jSpIkSZI0mphUUst1dJQytpovfQk+/Wm4805Yf/3emd8OPHDh/T7xif6P9cILZQa4LbYoyaXTTy/7DmcC6L3vLYmwefNg+eWH77iSJEmSJI0WjqmktlMbI+nUU8t7bea36dMH37e2Ta0E7ve/LzPL1Y45nDE+9lg5viRJkiRJY5FJJbWdTTaBrbaCmTPLcv3Mb4PZdNMyA1xtn5kzYdVVYbfdhjfG3XYrx63FKEmSJEnSWGNSSW2pqwsuu6yUwPWd+W1xVlgBXvrSsk+t9G2vvYa/RG3iRNh773L8efOG99iSJEmSJI0GJpXUlupL4PrO/DaY6dPLPs0qfauP0RI4SZIkSdJYZVJJbWnatFIC191dEkQdHY3v29EB//hHmfFtlVWGv/StplYC193dnONLkiRJktTOTCqpbXV1waWXwi23NDaeUs306WUGuF//upSoNWt2tloJXG0WOEmSJEmSxhKTSmpbtbK1zKEnlQDmz29e6VuNJXCSJEmSpLFqQqsDkAYybRpsuSVcc83Qyt9qM8CtvHLzSt9qaiVw3/oW3Hdfc88ltbvNNoMdd2x1FJIkSZJGikkltbWDD4YvfrEkmBq1wgrQ2VlezSp9q5k4EfbfH370I7jwwuaeS2p3kybBAw/A5MmtjkSSJEnSSIjMbHUMw6KzszN7enpaHYaGWSY899zQk0PPP196K40f35y46s2fD/fc0/zzSO3syivLGGO/+hUccECro5EkSZI0XCJiVmZ29rfOnkpqaxFL1ttoueWGP5aBjB8P668/cueT2tG668Laa5fZEE0qSZIkSWODA3VLkpbauHGw335w9tnwxBOtjkaSJEnSSGhqUiki3hwRN0bEzRFxRD/rp0bEhRFxTURcEhHr1a2bHxFXVa8zmhmnJGnpdXXBvHlw1lmtjkSSJEnSSGhaUikixgPfB3YHOoADIqLvHF7/B/w8M7cEjgK+XLfumczcunrt2aw4JUnDY8cde0vgJEmSJC37mtlTaVvg5sy8NTOfA04G9uqzTQdwUfX54n7WS5JGiXHj4O1vh3POsQROkiRJGguamVRaF7izbvmuqq3e1cC+1ed9gMkRsWa1PCkieiLirxGxdxPjlCQNkxkz4NlnLYGTJEmSxoJWD9R9OLBTRPwd2Am4G5hfrZtaTVl3IPDtiHhZ350j4gNV4qln7ty5Ixa0JKl/lsBJkiRJY8eEJh77bqB+ovX1qrZ/ycx7qHoqRcTKwNsz89Fq3d3V+60RcQnwCuCWPvv/GPgxQGdnZzbjIiRJjauVwP30p3DVVTBx4pIfa+JEeNnLIGLRdQ8/DGusseTHliRJkrT0mplUugLYJCI2oiST9qf0OvqXiFgLeDgzFwD/DRxXta8OPJ2Z86ptdgS+1sRYJUnD5B3vgO99D17xiqU/1kknwf77L9x22mllprlrroHNN1/6c0iSJElaMk1LKmXmCxFxGHAeMB44LjNnR8RRQE9mngHsDHw5IhL4I/ChavfNgR9FxAJKid5XMnNOs2KVJA2f17wGzjsPHn106Y7z8Y/DiScumlQ64QR44YWScDrqqKU7hyRJkqQlF5nLRtVYZ2dn9vT0tDoMSdIw+fjHS4+n+++H1VYrbU88AVOmwLx5sNlmMGdO/+VxkiRJkoZHRMyqxrxeRKsH6pYkqV8zZsBzz8EZZ/S2nXVWSSi9851www0we3br4pMkSZLGOpNKkqS2tO22sMEGC88k190N66wDX/96GRR85szWxSdJkiSNdSaVJEltKQL22w/OP7+Mz/TEE3D22WV2ubXXhp12KkmmZaSKW5IkSRp1TCpJktpWV1dvCVyt9G3GjN51lsBJkiRJrWNSSZLUtrbbDtZfv/RIqpW+vfrVZd2++5YSuPryOEmSJEkjx6SSJKltRZQeSeefD+ecU0rfxlV/c734xaUEbuZMS+AkSZKkVjCpJElqa7USuGefLZ/7rrMETpIkSWqNyGXkv3c7Ozuzp6en1WFIkoZZJkydCi+8AHfd1dtTCeD++0tJ3PLLw8SJrYtxLBk3Dr7/fTjggIXb77gDdt8dfvUr2Gqrhdddcgn853/CxRfD6quPVKSSJEkaDhExKzM7+1s3YaSDkSRpKCLgZz+D+fMXTihBKYH7yU/gmmtaE9tY9JvfwA9+sGhS6cQTYc4cOPZY+M53Fl73gx/A1VfDaafBv/3biIUqSZKkJrOnkiRJathRR8GRR5ZeY+us09v+ylfC3/9e2u68szcB+PTTMGVKed99dzj77JaELUmSpCW0uJ5KjqkkSZIa1tVVShJPPbW37eabS0Jpu+3gnnvg0kt71519dkkobbcdXHABPPLIyMcsSZKk5jCpJEmSGrb55rDFFtDd3dtW+3zccWV8q5kzF173ohfBt79dxsU67bSRjFaSJEnNZFJJkiQNSVcX/PnPpVcSlMTRdttBR0cpcTv1VFiwoPRQOuss2Hffsn7DDRdORkmSJGl0M6kkSZKGpL4Erlb61tXVu65WAlcrfevqKgOu77cf/P73lsBJkiQtK0wqSZKkIdl8c5g+vfQ6qvU82m+/8v62t/WWwNVK3173urJuxgx4/nk4/fTWxC1JkqThZVJJkiQN2YwZpQTupz8tpW1Tp5b2yZNLCVx3d2/p24QJZV1nZymBqx9zSZIkSaOXSSVJkjRktRK4W2/tLX2rX3fffb2lbzWWwEmSJC1bIjNbHcOw6OzszJ6enlaHIUnSmLHFFjB7Ntx+e29PJYAnnoApU2CVVcr4SrWeSgCXX156Nr3qVbDmmiMecttYZRX48Y9h1VUXbr/88tLL62tfK0k4SZKkVouIWZnZ2d+6Cf01SpIkDeZznytJkPqEEpQSuCOPhNVWWzihBCWZ9K53wU03wcMPj1Sk7eWFF+Dcc+ENb4D3v3/hdV/6Uhlzav/9YZttWhOfJElSo+ypJEmSNIIyYdo02GgjOP/83vbHHy8Dm8+bB5/8JHz1q62LUZIkqWZxPZUcU0mSJGkERZSxpi66CB58sLf9zDNLQmm99UoJ3DLy/36SJGkZZlJJkiRphM2YAfPnw29/29vW3Q3rrltKB2+7Da68smXhSZIkNcSkkiRJ0gjbaivYeOOSSIJS+nbuuWV2vH32KWNRzZzZ2hglSZIGY1JJkiRphPUtgauVvnV1wRprlEG8LYGTJEntzqSSJElSC3R19ZbA1Urfdtihd50lcJIkqd2ZVJIkSWqBrbcuJXA/+1lv6du46l9me+9dSuBq5XGSJEntyKSSJElSC9RK4C67rLf0raZWAjdzpiVwkiSpfU1odQCSJEljVVcXfPnLC5e+1a875BA4/HBYbbWWhKcmiiizAE6btnB7Jpx4Iuy5J6yySmtikySpUSaVJEmSWmTrreE1r4E3vam39K1mn33gv/8bvvnNloSmEXDFFXD66Qu3/elP8O53w3e+Ax/+cGvikiSpUSaVJEmSWiSiJBH6s/rqcO+9lr8tqz7+cTjmGHj88YV7JM2cWd6vu641cUmSNBQmlSRJktpU395LWnbMmAFHHw1nngnvfGdpmz8fTj21fJ49u3WxSZLUKP+pIkmSJI2w7bcvY2nVz/D3l7/AfffBS14Cc+bYS02S1P5MKkmSJEkjbNy4Mhj7ueeWEjgoCaZJk8pYSo88UhJMkiS1M5NKkiRJUgt0dcG8eaUErlb6tscesN12Zf2cOa2NT5KkwZhUkiRJklqgvgTuL38pA7N3dcH06WW94ypJktqdA3VLkiRJLTBuHOy3X5kFbtVVS+nbW98KK61UZv8zqSRJanf2VJIkSZJaZMaMUgL385+X0reVV4aI0lvJ8jdJUrszqSRJkiS1SK0EDkrpW8306aWnkjPASZLamUklSZIkqUXGjYMDD4TJk0vpW01HhzPASZLan0klSZIkqYU+/3m4/vpS+lZTG6zbEjhJUjszqSRJkiS10PLL95bA1TgDnCRpNDCpJEmSJLWZF7+4zABnTyVJUjszqSRJkiS1mdoMcPZUkiS1M5NKkiRJUhtyBjhJUrszqSRJkiS1odoMcPff3+pIJEnqn0klSZIkqQ05WLckqd2ZVJIkSZLakEklSVK7m9DqACRJkiQtqjYD3DXXwNNPL92xJk2Ccf53siRpmPlXiyRJktSGIuDlL4djj4WVVlq61+67L3r8TNh+e/j0p0f+2iRJy4am9lSKiDcDRwPjgZ9m5lf6rJ8KHAdMAR4G3pWZd1XrDgI+U236hcw8oZmxSpIkSe3m6KPh/POX7hh/+xv85jdwxx2wwQa97VdfXdbddhscdRSMH79055EkjT1NSypFxHjg+8BuwF3AFRFxRmbOqdvs/4CfZ+YJEbEL8GXg3RGxBvA5oBNIYFa17yPNileSJElqN1tvXV5L4x//KEmlU06Bj32st33mzPL+wAPwxz/C61+/dOeRJI09zSx/2xa4OTNvzczngJOBvfps0wFcVH2+uG79m4ALMvPhKpF0AfDmJsYqSZIkLZM22aQkprq7e9syy/KOO8KKKy68TpKkRjUzqbQucGfd8l1VW72rgX2rz/sAkyNizQb3lSRJktSAri7461/hzupf2FdfDTffDAcdBG95C5x6Ksyf39oYJUmjT6sH6j4c2Cki/g7sBNwNNPzXWUR8ICJ6IqJn7ty5zYpRkiRJGtW6usr7KaeU95kzyxhK++xT1tVK4CRJGopmJpXuBtavW16vavuXzLwnM/fNzFcAn67aHm1k32rbH2dmZ2Z2TpkyZZjDlyRJkpYN9SVwtdK3XXaBtdaCPfaAFVawBE6SNHTNTCpdAWwSERtFxERgf+CM+g0iYq2IqMXw35SZ4ADOA94YEatHxOrAG6s2SZIkSUugqwsuuwzOOquUvtV6L620UimB+81vLIGTJA1N05JKmfkCcBglGXQ9MDMzZ0fEURGxZ7XZzsCNEXET8GLgi9W+DwOfpySmrgCOqtokSZIkLYFaEumDH+wtfauZMQPuvx/+9KfWxCZJGp0iM1sdw7Do7OzMnp6eVochSZIkta1XvAKuugp22w3OP7+3/amnYMoUeO974Qc/aFV0kqR2FBGzMrOzv3WtHqhbkiRJ0gip9VaqvdfUSuCOPx622qq8ttkG/vKXEQ9RkjSKTGh1AJIkSZJGxvveB/fcA/vvv+i6I44og3jXxlW66CL43vdgxx1HNkZJ0uhh+ZskSZKkRRx6KPzylzB3bpkdTpI0Nln+JkmSJGlIurrKWEvnnNPqSCRJ7cqkkiRJkqRF7LQTrLUWdHe3OhJJUrsyqSRJkiRpERMmwL77wplnwjPPtDoaSVI7MqkkSZIkqV+1Erhzz211JJKkdmRSSZIkSVK/dt65lMDNnNnqSCRJ7cikkiRJkqR+WQInSVock0qSJEmSBmQJnCRpIBNaHYAkSZKk9lUrgfvc5+D881sdTXuaNAk+8xlYc81WRyJJI8ukkiRJkqQBTZgAH/0ofPe78JvftDqa9rNgATz4IHR0wPvf3+poJGlkmVSSJEmStFif+Ux5aVELFsDkyTBnTqsjkaSR55hKkiRJkrSExo2DzTeH2bNbHYkkjTyTSpIkSZK0FDo67KkkaWwyqSRJkiRJS2H6dLj7bnj00VZHIkkja9CkUkS8LSJMPkmSJElSP6ZPL+/XX9/aOCRppDWSLHoH8I+I+FpEbNbsgCRJkiRpNOnoKO+OqyRprBk0qZSZ7wJeAdwCHB8Rl0XEByJictOjkyRJkqQ2t+GGsMIKJpUkjT0NlbVl5uPAKcDJwNrAPsCVEfHhJsYmSZIkSW2vNgOcg3VLGmsaGVNpz4j4LXAJsBywbWbuDmwFfLy54UmSJElS+5s+fWg9lR58EP7+9+bFI0kjoZGeSm8HvpWZL8/Mr2fmAwCZ+TRwSFOjkyRJkqRRoDYD3GOPNbb9xz4Gr341PP54c+OSpGZqJKl0JHB5bSEiVoiIDQEy88LmhCVJkiRJo0dtsO5GSuCefRZOO628n3lmU8OSpKZqJKnUDSyoW55ftUmSJEmSKD2VoLGk0nnnwRNPwPjx0O1vVpJGsUaSShMy87naQvV5YvNCkiRJkqTRZSgzwHV3wxprwAc/COeeawmcpNGrkaTS3IjYs7YQEXsBDzYvJEmSJEkaXWozwA2WVHr2WTjjDNhnHzjwQJg3zxI4SaNXI0mlQ4H/iYg7IuJO4FPAB5sbliRJkiSNLh0dg5e/nX9+KX3r6oIddoB117UETtLoNWhSKTNvycztgQ5g88x8dWbe3PzQJEmSJGn0mD4d7rpr8TPAzZxZSt922aX0btpvP0vgJI1ejfRUIiLeAvwH8LGI+GxEfLa5YUmSJEnS6FIbrPv66/tfXyt923tvWG650tbVVUrgzjprREKUpGE1aFIpIo4B3gF8GAigC5ja5LgkSZIkaVTp6CjvA42rVF/6VmMJnKTRbEID27w6M7eMiGsy838j4hvAOc0OTJIkSZJGk9oMcJddBjvttOj6X/wCVl8ddt21t61WAnfMMXDddTBpUmlfd91yrL6eeqpsM378ouseeGDgMrqVV4aXvGRo1/Pcc7BgQW9MktRXI0mlZ6v3pyNiHeAhYO3mhSRJkiRJo8/48bDFFnDsseXVn0MO6S19q5kxA44+Gl7+8t62N7wBLrhg4e2efx423RTe/W748pcXXnfbbTBtGrzwQv/nHTcOrrmmt0SvEQceCPffD3/6U+P7SBpbGkkqnRkRqwFfB64EEvhJM4OSJEmSpNHol7+Eyy/vf10EvPnNi7a/+tXwu9/Bww+X5XPPhV/9Cu69F9au++/8Cy+Eu++Gn/8cvvjFkiiq+fWvS0LpRz+CFVdc+PjPPw/vex+cdBJ84QuNXccjj5Txn55/Hm69FV760sb2kzS2RGYOvDJiHLB9Zl5aLS8PTMrMxcxn0BqdnZ3Z09PT6jAkSZIkaanMmVN6FH33u3DYYb3thxwCxx1XPv/5z7Djjr3rttmm9ID661/7P+auu5aZ6W64oSS3BnP88fBv/1Y+f+Ur8KlPLdGlSFoGRMSszOzsb91iB+rOzAXA9+uW57VjQkmSJEmSlhUdHSWpNHNmb9vzz8Nvfwt77gnLL7/wultugSuvLGV0A5kxA266qZTANWLmzDJG1KtetfC5JKneoLO/ARdGxNsjGslnS5IkSZKWVldX6Y10771l+cILS0naIYfA7rvDKaeUQbShd+a4/fYb+Hj77FPK5RqZZe6RR+D3vy8xvOMdJWF1661Ldz2Slk2NJJU+CHQD8yLi8Yh4IiIGmFNAkiRJkrS0urogE049tSx3d8PkyfDGN5Z199xTZpmrrdtuO9hgg4GP96IXwc47l20XMwIKAKefXnpGdXX1JqoaSUZJGnsGTSpl5uTMHJeZEzNzlWp5lZEITpIkSZLGoo6O8uruLgme004rpW+TJsHb3lZK4Lq7e0vfuroGP2ZXVymBu/baxW/X3V1K3zo7YepU2HZbk0qS+jdoUikiXtffaySCkyRJkqSxasYM+NOf4MQTy8xwtTGTJk8us8idckrveEeLK32r2XffUgK3uDGSHnkELrigHK82AMqMGTBrliVwkhbVSPnbJ+pe/w84EziyiTFJkiRJ0phXK4H7r//qLX2rX3f33fC1r5XSt6lTBz9eIyVw9aVvNZbASRpII+Vvb6t77QZsATzS/NAkSZIkaeyqlcA9+mhv6VtNrQTu0UcbK32rGawErru7JKhe9areNkvgJA2kkZ5Kfd0FbD7cgUiSJEmSFlYreau916yySimBg8ZK32pqJXA77ghTpiz6OuecknjqO/d3rQSuftujj170+E88Aa9+Nfzxj43HJGn0mjDYBhHxXaDWOXIcsDVwZRNjkiRJkiQBhx1WeiTtvvui6774RXjrWxsrfat50YvgmGPgqqv6X7/ccvDRjy7afvDBZca5Z58tyxddVJJKH/nIwgmoM88ss9L97nfwOkfilZZ5kYPMJxkRB9UtvgDcnpl/aWpUS6CzszN7enpaHYYkSZIkLfOOOw4OOQR6emCbbXrb99mnzFT3lrfAWWe1LDxJwygiZmVmZ3/rBu2pBJwCPJuZ86uDjY+IFTPz6eEMUpIkSZI0Ouy9N3zwg2UmuVpS6YknSvkcwOzZLQtN0ghqZEylC4EV6pZXAH7fnHAkSZIkSe1ujTXgDW9YeCa5M8+EefPgTW+C22+Hp55qaYiSRkAjSaVJmflkbaH6vGLzQpIkSZIktbuuLrjtNriyGnG3uxvWWQfe976yfP31rYtN0shoJKn0VES8srYQEdsAzzQvJEmSJElSu9t7b5gwoZTA1Urf9tsPttiirJ8zp6XhSRoBjYyp9J9Ad0TcAwTwEuAdzQxKkiRJktTe6kvgtt66lL51dcHGG8PEiY6rJI0FgyaVMvOKiNgM2LRqujEzn29uWJIkSZKkdtfVVWaBO/LIUvr26lfDuHGw6aYmlaSxYNDyt4j4ELBSZl6XmdcBK0fEfzRy8Ih4c0TcGBE3R8QR/azfICIujoi/R8Q1EbFH1b5hRDwTEVdVr2OGemGSJEmSpOaqlcDddBO8/e0loQTQ0WH5mzQWNDKm0vsz89HaQmY+Arx/sJ0iYjzwfWB3oAM4ICI6+mz2GWBmZr4C2B/4Qd26WzJz6+p1aANxSpIkSZJGUK0EDmDGjN726dPLIN71M8DNnQv/8R/w2GMjG6Ok5mkkqTQ+IqK2UCWLJjaw37bAzZl5a2Y+B5wM7NVnmwRWqT6vCtzTwHElSZIkSW3iE5+Ad72rlL7VdFTdCW64obft2GPhhz+EE08c2fgkNU8jSaVzgV9HxK4RsStwEnBOA/utC9xZt3xX1VbvSOBdEXEXcDbw4bp1G1VlcX+IiNf2d4KI+EBE9EREz9y5cxsISZIkSZI0nHbZBX7xi97SNyg9lWDhcZW6uxd+lzT6NZJU+hRwEXBo9boWWGGYzn8AcHxmrgfsAfwiIsYB9wIbVGVxHwN+FRGr9N05M3+cmZ2Z2TllypRhCkmSJEmStDRe9jJYbrnepNItt8CVV5bBvP/4R7j//tbGJ2l4DJpUyswFwN+A2yklbbsA1zdw7LuB9euW16va6h0CzKzOcxkwCVgrM+dl5kNV+yzgFmBaA+eUJEmSJLXYcsuVGeBqg3XXeif9+MewYAH85jeti03S8BkwqRQR0yLicxFxA/Bd4A6AzHx9Zn6vgWNfAWwSERtFxETKQNxn9NnmDmDX6nybU5JKcyNiSjV2ExHxUmAT4NahXZokSZIkqVWmT+/tqdTdDdtuC3vsAZttZgmctKxYXE+lGyi9kt6ama/JzO8C8xs9cGa+ABwGnEfp2TQzM2dHxFERsWe12ceB90fE1ZSxmt6bmQm8DrgmIq4CTgEOzcyHh3htkiRJkqQW6eiA22+Ha68tpW8zZkAEdHXBH/5gCZy0LJiwmHX7UnoXXRwR51Jmb4vFbL+IzDybMgB3fdtn6z7PAXbsZ79TgVOHci5JkiRJUvuYPh0y4fOfL8v77Vfeu7pK229+A//+762LT9LSG7CnUmaelpn7A5sBFwP/CbwoIn4YEW8cofgkSZIkSaNQR0d5r5W+TZ1alrfYwhI4aVnRyEDdT2XmrzLzbZTBtv9OmRFOkiRJkqR+bbxxGbAbSu+kmvoSuAceaE1skoZHlCGMRr/Ozs7s6elpdRiSJEmSpMrLXw7XXQe33QYbbtjbfu21sOWWcOCBZZuRtsIKcOihsPzyI39uabSJiFmZ2dnfusWNqSRJkiRJ0hJ74xthgw0WTihBKYHbbjv41a9aEhYAkyfDwQe37vzSssCeSpIkSZKkEbdgATz33MifN7MktaZNg3POGfnzS6ONPZUkSZIkSW1l3DiYNKk1595vP/jmN+Hhh2GNNVoTg7QsGHSgbkmSJEmSliVdXfDCC3Daaa2ORBrdTCpJkiRJksaUbbYp4zx1d7c6Eml0M6kkSZIkSRpTImDGDPj970sJnKQlY1JJkiRJkjTm1ErgTj+91ZFIo5dJJUmSJEnSmFMrgZs5s9WRSKOXSSVJkiRJ0pgTUXorWQInLbkJrQ5AkiRJkqRW6OqCr38djj4adtll8O032gg22GDR9gcfhOWWg1VXHf4YpXYWmdnqGIZFZ2dn9vT0tDoMSZIkSdIokQnTpsHNNze2/dprwx13wIS67hmZsOWWsNlmzianZVNEzMrMzv7W2VNJkiRJkjQmRcAll8BNNw2+7eWXwxFHwB//uHCvpmuvheuugyefbFqYUtsyqSRJkiRJGrPWXbe8BrPddnDUUaU3Un1SqdY76fbbS2Jp5ZWbEqbUlhyoW5IkSZKkQay4IrztbXDqqfDCC6UtsySVJk0qy9df37r4pFYwqSRJkiRJUgO6umDu3FICB6Xs7cYb4d//vSzPmdO62KRWMKkkSZIkSVIDdt+99FiqlbzNnAnjxsHhh8PEiTB7dmvjk0aaSSVJkiRJkhqw4orw1rf2lsB1d8NOO8E668Cmm9pTSWOPSSVJkiRJkhpUK4H7wQ9K6duMGaV9+nR7KmnsMakkSZIkSVKD9tij9Fg64ohS+rbvvqV9+vTeGeCkscKkkiRJkiRJDaqVwD3zTCl9e9GLSntHR3m/4YaFt1+wAJ5/vv/X/PkjG7s03EwqSZIkSZI0BF1dC79D6akEC5fAzZsHL3tZGcS7v9ekSfCnP41c3NJwm9DqACRJkiRJGk322QeOPx7237+3rZY8qh+s+4ILSkncoYfCeustepyvfrUc57WvbXLAUpOYVJIkSZIkaQjGj4eDDlq4bcKEMgNcfU+l7m5YbTU4+uiScOrr+uvhtNPgmGNgueWaGbHUHJa/SZIkSZI0DOpngJs3D04/Hfbaq/+EEpTyuYcfhosuGrkYpeFkUkmSJEmSpGFQmwHuqadK6dtjj8GMGQNv/6Y3weTJMHPmiIUoDSuTSpIkSZIkDYPaDHDXX99b+vaGNwy8/aRJsOeepQTu+edHIkJpeJlUkiRJkiRpGNRmgPv73wcvfauxBE6jmUklSZIkSZKGQW0GuO9+t5S+dXUNvk+tBK67u/nxScPNpJIkSZIkScOgNgPctdfCqqvCbrsNvk+tBO63v7UETqOPSSVJkiRJkoZJrQRu770HL32rsQROo9WEVgcgSZIkSdKyopZUaqT0raZWAnfwwbD22s2JKwI+85kyzpM0XEwqSZIkSZI0TPbfH+bObaz0rWbSJPjqV+F3v2teXFdcAV/7mkklDa/IzFbHMCw6Ozuzp6en1WFIkiRJktR2vvQl+PSn4Y47YP31Wx2NRpOImJWZnf2tc0wlSZIkSZKWcbVyvFNPbW0cWraYVJIkSZIkaRm3ySaw1VbQ3d3qSLQsMakkSZIkSdIY0NUFl14Kd97Z6ki0rDCpJEmSJEnSGGAJnIabSSVJkiRJksaAadMsgdPwMqkkSZIkSdIYUSuBu+uuVkeiZYFJJUmSJEmSxohaCdwpp7Q2Di0bJrQ6AEmSJEmSNDKmTYMtt4TvfhduvXXpjrXppvChDw1PXBqdTCpJkiRJkjSGfPjD8KlPwS9/ueTHeO45eOop2GMP2Gij4YtNo4tJJUmSJEmSxpD3va+8lsZtt8FLX1oG/f7kJ4cnLo0+jqkkSZIkSZKGZKONoLPTmeTGOpNKkiRJkiRpyLq6oKen9FrS2GRSSZIkSZIkDZkzyampSaWIeHNE3BgRN0fEEf2s3yAiLo6Iv0fENRGxR926/672uzEi3tTMOCVJkiRJ0tBYAqemJZUiYjzwfWB3oAM4ICI6+mz2GWBmZr4C2B/4QbVvR7U8HXgz8IPqeJIkSZIkqU10dcEVV8Dtt7c6ErVCM3sqbQvcnJm3ZuZzwMnAXn22SWCV6vOqwD3V572AkzNzXmbeBtxcHU+SJEmSJLWJWgmcvZXGpmYmldYF7qxbvqtqq3ck8K6IuAs4G/jwEPYlIj4QET0R0TN37tzhiluSJEmSJDXAErixrdUDdR8AHJ+Z6wF7AL+IiIZjyswfZ2ZnZnZOmTKlaUFKkiRJkqT+1UrgfvITOOmk8rrpplZHpZEwoYnHvhtYv255vaqt3iGUMZPIzMsiYhKwVoP7SpIkSZKkFpsxAz79afjAB3rbXvlKmDWrdTFpZDSzp9IVwCYRsVFETKQMvH1Gn23uAHYFiIjNgUnA3Gq7/SNi+YjYCNgEuLyJsUqSJEmSpCWw4YZw551www3l9f73w+zZMH9+qyNTszUtqZSZLwCHAecB11NmeZsdEUdFxJ7VZh8H3h8RVwMnAe/NYjYwE5gDnAt8KDN9HCVJkiRJakMveQlsuml5vfrVMG8e3Hprq6NSszWz/I3MPJsyAHd922frPs8Bdhxg3y8CX2xmfJIkSZIkaXh1dJT32bNhk01aG4uaq9UDdUuSJEmSpGVIfVJJyzaTSpIkSZIkadisvDJMnQpz5rQ6EjWbSSVJkiRJkjSsOjrsqTQWmFSSJEmSJEnDavr0MhOcM8At20wqSZIkSZKkYdXR4QxwY4FJJUmSJEmSNKymTy/vlsAt20wqSZIkSZKkYbX55uXdwbqXbSaVJEmSJEnSsJo8GTbYwJ5KyzqTSpIkSZIkadhNn25SaVlnUkmSJEmSJA07Z4Bb9plUkiRJkiRJw84Z4JZ9JpUkSZIkSdKwcwa4ZZ9JJUmSJEmSNOycAW7ZZ1JJkiRJkiQNO2eAW/aZVJIkSZIkSU3hDHDLNpNKkiRJkiSpKTo6nAFuWTah1QFIkiRJkqRl0/TpZQa4ddeFcUvRrWXyZPj972H99YcvNi09k0qSJEmSJKkp9toLPvIReOaZJT/G/Plw3HFw4olwxBHDF5uWXmRmq2MYFp2dndnT09PqMCRJkiRJ0jDbfnt4/nmYNavVkYw9ETErMzv7W+eYSpIkSZIkqa11dcGVV8Itt7Q6EtUzqSRJkiRJktrafvuV9+7u1sahhZlUkiRJkiRJbW3qVNhuO5NK7cakkiRJkiRJanuWwLUfk0qSJEmSJKntWQLXfkwqSZIkSZKktjd1Kmy7rUmldmJSSZIkSZIkjQozZlgC105MKkmSJEmSpFGhVgJ3wAHl8377weGHQ2Zr4xqrTCpJkiRJkqRRYepU+OAH4emn4YYbYNYs+MY3yrtG3oRWByBJkiRJktSoY47p/fzww/DiF5dxljo7WxfTWGVPJUmSJEmSNCqtsQa84Q0wc6YlcK1gUkmSJEmSJI1aXV1w++2WwLWCSSVJkiRJkjRq7b03TJhQSuA0skwqSZIkSZKkUWuNNWDXXUtSyRK4kWVSSZIkSZIkjWozZsBtt1kCN9JMKkmSJEmSpFHNErjWMKkkSZIkSZJGNUvgWmNCqwOQJEmSJElaWjNmwCGHwGc+U5JMS2r8eHjnO2HKlOGLbVllUkmSJEmSJI16e+8Nhx8OX/rS0h/rjjvgm99c+uMs60wqSZIkSZKkUW+NNeC++2DevKU7zgEHwCmnwP/9H4xz0KDFMqkkSZIkSZKWCRMnltfS2H9/+N3v4G9/gx12GJ64llXm3CRJkiRJkipve1tJTDmT3OBMKkmSJEmSJFVWXRXe9KZSArdgQaujaW8mlSRJkiRJkup0dcGdd8Lll7c6kvZmUkmSJEmSJKnOnnuWEriZM1sdSXszqSRJkiRJklTHErjGmFSSJEmSJEnqwxK4wU1odQCSJEmSJEntplYCd8wxkDn49lOmwMYbNz+udmJSSZIkSZIkqY9VV4U99oATTiivwSy3HNx3H6yxRvNjaxcmlSRJkiRJkvpx7LFw6KGDb3fVVXDEEXDddfC61zU9rLbR1KRSRLwZOBoYD/w0M7/SZ/23gNdXiysCL8rM1ap184Frq3V3ZOaezYxVkiRJkiSp3hprlAG7B7P55iWpNGeOSaVhERHjge8DuwF3AVdExBmZOae2TWb+V932HwZeUXeIZzJz62bFJ0mSJEmSNBzWXx8mT4bZs1sdychq5uxv2wI3Z+atmfkccDKw12K2PwA4qYnxSJIkSZIkDbsI6OgoPZXGkmYmldYF7qxbvqtqW0RETAU2Ai6qa54UET0R8deI2LtpUUqSJEmSJC2ljg57KrXK/sApmTm/rm1qZnYCBwLfjoiX9d0pIj5QJZ565s6dO1KxSpIkSZIkLWT6dLj/fnjooVZHMnKamVS6G1i/bnm9qq0/+9On9C0z767ebwUuYeHxlmrb/DgzOzOzc8qUKcMRsyRJkiRJ0pB1dJT3sVQC18yk0hXAJhGxUURMpCSOzui7UURsBqwOXFbXtnpELF99XgvYERhDPxZJkiRJkjSaTJ9e3sdSCVzTZn/LzBci4jDgPGA8cFxmzo6Io4CezKwlmPYHTs7MrNt9c+BHEbGAkvj6Sv2scZIkSZIkSe1k/fVh5ZVNKg2bzDwbOLtP22f7LB/Zz36XAi9vZmySJEmSJEnDZSzOANcuA3VLkiRJkiSNatOnj62eSiaVJEmSJEmShkFHx9iaAc6kkiRJkiRJ0jCoDdY9VkrgTCpJkiRJkiQNg7E2A5xJJUmSJEmSpGFQmwHOnkqSJEmSJElqWG0GOHsqSZIkSZIkaUhMKkmSJEmSJGnIpk8fOzPAmVSSJEmSJEkaJmNpBjiTSpIkSZIkScOko6O8m1SSJEmSJElSwzbYAHbZBVZdtdWRNN+EVgcgSZIkSZK0rIiACy9sdRQjw55KkiRJkiRJGjKTSpIkSZIkSRoyk0qSJEmSJEkaMpNKkiRJkiRJGjKTSpIkSZIkSRoyk0qSJEmSJEkaMpNKkiRJkiRJGjKTSpIkSZIkSRoyk0qSJEmSJEkaMpNKkiRJkiRJGjKTSpIkSZIkSRoyk0qSJEmSJEkaMpNKkiRJkiRJGrLIzFbHMCwiYi7wz1bHsRTWAh5sdRDSIHxONRr4nGo08DnVaOGzqtHA51SjwWh+Tqdm5pT+ViwzSaXRLiJ6MrOz1XFIi+NzqtHA51Sjgc+pRgufVY0GPqcaDZbV59TyN0mSJEmSJA2ZSSVJkiRJkiQNmUml9vHjVgcgNcDnVKOBz6lGA59TjRY+qxoNfE41GiyTz6ljKkmSJEmSJGnI7KkkSZIkSZKkITOp1GIR8eaIuDEibo6II1odj1QTEbdHxLURcVVE9FRta0TEBRHxj+p99VbHqbEnIo6LiAci4rq6tn6fzSi+U33HXhMRr2xd5BpLBnhOj4yIu6vv1asiYo+6df9dPac3RsSbWhO1xpqIWD8iLo6IORExOyI+WrX7naq2sZjn1O9UtY2ImBQRl0fE1dVz+r9V+0YR8bfqefx1REys2pevlm+u1m/Y0gtYCiaVWigixgPfB3YHOoADIqKjtVFJC3l9Zm5dN/XlEcCFmbkJcGG1LI2044E392kb6NncHdiken0A+OEIxSgdz6LPKcC3qu/VrTPzbIDq7/79genVPj+o/o0gNdsLwMczswPYHvhQ9Tz6nap2MtBzCn6nqn3MA3bJzK2ArYE3R8T2wFcpz+nGwCPAIdX2hwCPVO3fqrYblUwqtda2wM2ZeWtmPgecDOzV4pikxdkLOKH6fAKwd+tC0ViVmX8EHu7TPNCzuRfw8yz+CqwWEWuPSKAa0wZ4TgeyF3ByZs7LzNuAmyn/RpCaKjPvzcwrq89PANcD6+J3qtrIYp7TgfidqhFXfS8+WS0uV70S2AU4pWrv+31a+549Bdg1ImJkoh1eJpVaa13gzrrlu1j8F6Q0khI4PyJmRcQHqrYXZ+a91ef7gBe3JjRpEQM9m37Pqt0cVpUNHVdXQuxzqparSi9eAfwNv1PVpvo8p+B3qtpIRIyPiKuAB4ALgFuARzPzhWqT+mfxX89ptf4xYM0RDXiYmFSSNJDXZOYrKV3dPxQRr6tfmWXqSKePVNvx2VQb+yHwMkq3+HuBb7Q0GqkSESsDpwL/mZmP16/zO1Xtop/n1O9UtZXMnJ+ZWwPrUXrHbdbaiEaGSaXWuhtYv255vapNarnMvLt6fwD4LeWL8f5aN/fq/YHWRSgtZKBn0+9ZtY3MvL/6B+cC4Cf0lmP4nKplImI5yi/qJ2bmb6pmv1PVVvp7Tv1OVbvKzEeBi4EdKGXCE6pV9c/iv57Tav2qwEMjG+nwMKnUWlcAm1Qjwk+kDCh3RotjkoiIlSJicu0z8EbgOsrzeVC12UHA6a2JUFrEQM/mGcB7qhmLtgceqyvpkEZUn7Fn9qF8r0J5TvevZoLZiDII8uUjHZ/Gnmr8jmOB6zPzm3Wr/E5V2xjoOfU7Ve0kIqZExGrV5xWA3Sjjf10M7Fdt1vf7tPY9ux9wUdUzdNSZMPgmapbMfCEiDgPOA8YDx2Xm7BaHJUEZO+G31VhxE4BfZea5EXEFMDMiDgH+CcxoYYwaoyLiJGBnYK2IuAv4HPAV+n82zwb2oAzS+TTwbyMesMakAZ7TnSNia0op0e3ABwEyc3ZEzATmUGY5+lBmzm9B2Bp7dgTeDVxbjQMC8D/4nar2MtBzeoDfqWojawMnVDMNjgNmZuZZETEHODkivgD8nZIgpXr/RUTcTJnYY/9WBD0cYpQmwyRJkiRJktRClr9JkiRJkiRpyEwqSZIkSZIkachMKkmSJEmSJGnITCpJkiRJkiRpyEwqSZIkSZIkachMKkmSpJaLiIyIb9QtHx4RRw7TsY+PiP2G41iDnKcrIq6PiIv7tG9YXd+H69q+FxHvHeR4h0bEewbZ5r0R8b0B1j05hPCXSESsHRFnLS6WiDgsIg5udiySJGnkmVSSJEntYB6wb0Ss1epA6kXEhCFsfgjw/sx8fT/rHgA+GhETGz1YZh6TmT8fwvmHzRCu+2PATwbZ5jjgw4NsI0mSRiGTSpIkqR28APwY+K++K/r2NKr1wImInSPiDxFxekTcGhFfiYh3RsTlEXFtRLys7jBviIieiLgpIt5a7T8+Ir4eEVdExDUR8cG64/4pIs4A5vQTzwHV8a+LiK9WbZ8FXgMcGxFf7+f65gIXAgf1c7yXRcS5ETGrOu9mVfuREXF49flVVYxXVTFfV3eIdar9/xERX+tz7G9FxOyIuDAiplRtW0fEX6vj/TYiVq/aL4mIb0dEDyUB1lVd49UR8cd+rgng7cC5/VzTWyLisohYKzOfBm6PiG0HOIYkSRqlTCpJkqR28X3gnRGx6hD22Qo4FNgceDcwLTO3BX7Kwr1jNgS2Bd4CHBMRkyg9ix7LzFcBrwLeHxEbVdu/EvhoZk6rP1lErAN8FdgF2Bp4VUTsnZlHAT3AOzPzEwPE+lXg8IgY36f9x8CHM3Mb4HDgB/3s+zPgg5m5NTC/z7qtgXcALwfeERHrV+0rAT2ZOR34A/C5qv3nwKcyc0vg2rp2gImZ2ZmZ3wA+C7wpM7cC9uwbUHWvHsnMeX3a9wGOAPbIzAer5h7gtf1clyRJGsVMKkmSpLaQmY9TEh4fGcJuV2TmvVVi4xbg/Kr9WkoiqWZmZi7IzH8AtwKbAW8E3hMRVwF/A9YENqm2vzwzb+vnfK8CLsnMuZn5AnAi8LoGr+/W6jwH1toiYmXg1UB3FcePgLXr94uI1YDJmXlZ1fSrPoe+MDMfy8xnKT2rplbtC4BfV59/CbymStitlpl/qNpP6BP/r+s+/wU4PiLeD/RNhFHFObdP2y7Ap4C3ZOYjde0PAOv0cwxJkjSKDWWcAEmSpGb7NnAlpWdOzQtU/xEWEeOA+nGJ6nvJLKhbXsDC/87JPudJICg9hM6rXxEROwNPLUnwDfgScAql5xCU63q06oG0pOrvwXwG/vdd33vQn39dd2YeGhHbUXp3zYqIbTLzobptnwEm9dn/FuClwDRK76SaSdX2kiRpGWJPJUmS1DYy82FgJqU0reZ2YJvq857Acktw6K6IGFeNs/RS4EbgPODfI2I5gIiYFhErDXKcy4GdImKtqoztAHoTRIPKzBsovYneVi0/DtwWEV1VDBERW/XZ51HgiSrBA7B/g6cbB9TGojoQ+HNmPgY8EhG1UrR3DxR/RLwsM/+WmZ+l9Ehav88mN7FwbzCAf1LGWfp5REyva58GXIckSVqmmFSSJEnt5htA/SxwP6Ekcq4GdmDJehHdQUkInQMcWpWK/ZSS4LmyGvj6RwzSizsz76WMF3QxcDUwKzNPH2IsXwTWq1t+J3BIdX2zgb362ecQ4CdVidxKwGMNnOcpYNvq2nYBjqraDwK+HhHXUMZjOqr/3fl6bUBy4FLK9f5LZj4F3BIRG/dpv6G6pu66wdJ3BC5oIGZJkjSKRGYjPaElSZLUKhGxcmbWZr07Alg7Mz/a4rBqg3Jvk5mfWcw2rwA+lpnvHrnIJEnSSHBMJUmSpPb3loj4b8q/3f4JvLe14RSZ+duIWHOQzdYC/t9IxCNJkkaWPZUkSZIkSZI0ZI6pJEmSJEmSpCEzqSRJkiRJkqQhM6kkSZIkSZKkITOpJEmSJEmSpCEzqSRJkiRJkqQhM6kkSZIkSZKkIfv/0plrhiNl+5gAAAAASUVORK5CYII=",
      "text/plain": [
       "<Figure size 1440x432 with 1 Axes>"
      ]
     },
     "metadata": {
      "needs_background": "light"
     },
     "output_type": "display_data"
    }
   ],
   "source": [
    "import scipy\t\n",
    "import numpy as np\n",
    "from sklearn.datasets import  load_breast_cancer\n",
    "import matplotlib.pyplot as plt\n",
    "from matplotlib.colors import ListedColormap\n",
    "\n",
    "\n",
    "breast_cancer = load_breast_cancer()\n",
    "X = breast_cancer.data  # features\n",
    "y = breast_cancer.target  # labels\n",
    "\n",
    "X_min = X.min(axis=0)\n",
    "X_max = X.max(axis=0)\n",
    "X_norm = (X - X_min) / (X_max - X_min)\n",
    "\n",
    "\n",
    "#shuffle the data\n",
    "def train_test_split(X,y,test_size=0): # X is data , Y is target , test_size is percentage split\n",
    "    indices = np.arange(X.shape[0]) # create list of indices\n",
    "    np.random.shuffle(indices) # random shuffle to create randomized data selection for split\n",
    "    split_idx = int(X.shape[0] * (1 - test_size))\n",
    "    X_train, X_test = X[indices[:split_idx]], X[indices[split_idx:]]\n",
    "    y_train, y_test = y[indices[:split_idx]], y[indices[split_idx:]]\n",
    "    return X_train, X_test, y_train, y_test\n",
    "\n",
    "#KNN class to train the network\n",
    "class KNN_classification:\n",
    "    def __init__(self, k=0):\n",
    "        self.k = k\n",
    "    \n",
    "    def fit(self, X_train, y_train):\n",
    "        self.X_train = X_train\n",
    "        self.y_train = y_train\n",
    "    \n",
    "    def predict(self, X_test):\n",
    "        predictions = [] # store predictions\n",
    "        for test_point in X_test:\n",
    "            distances = np.linalg.norm(self.X_train - test_point, axis=1) #calculate the distance for all the test point to the train point (euclidean)\n",
    "            nearest_indices = np.argsort(distances)[:self.k] # find the k points close to the test point\n",
    "            nearest_labels = self.y_train[nearest_indices] # get the label\n",
    "            prediction = np.argmax(np.bincount(nearest_labels)) # count occurence label among the nearest neighbour (highest value becomes the label of this zone)\n",
    "            predictions.append(prediction)\n",
    "        return np.array(predictions)\n",
    "    \n",
    "    def accuracy(self, y_true, y_pred):\n",
    "        accurate_predicted=np.sum(y_true == y_pred) / len(y_true) # determine number of accurate predictions\n",
    "        return accurate_predicted\n",
    "    \n",
    "X_train, X_test, y_train, y_test = train_test_split(X_norm, y, test_size=0.2) # Create the test and train data, modify the test_size value to create different split\n",
    "k_values = list(range(1, 300)) #iterate over different k values, modify this value to determine the number of neighbours\n",
    "accuracies = [] #store the accuracies\n",
    "\n",
    "for k in k_values:\n",
    "    knn = KNN_classification(k=k) #initialize the k value\n",
    "    knn.fit(X_train, y_train) #fit the train data\n",
    "    y_pred = knn.predict(X_test)\n",
    "    accuracy = knn.accuracy(y_test, y_pred)\n",
    "    accuracies.append(accuracy)\n",
    "\n",
    "plt.figure(figsize=(20, 6))\n",
    "plt.plot(k_values, accuracies, color='b')  \n",
    "plt.title('k-NN Classifier Accuracy for different k (Breast Cancer Dataset)')\n",
    "plt.xlabel('Number of Neighbors (k)')\n",
    "plt.ylabel('Accuracy')\n",
    "# plt.xticks(k_values)\n",
    "plt.grid(False)  \n",
    "plt.show()\n"
   ]
  },
  {
   "cell_type": "markdown",
   "metadata": {},
   "source": [
    "### $k$-NN regression\n",
    "\n",
    "Modify the $k$-NN implementation to do regression instead of classification. Compare the performance of the linear regression model and the $k$-NN regression model on the diabetes dataset for different values of $k$.."
   ]
  },
  {
   "cell_type": "code",
   "execution_count": 9,
   "metadata": {},
   "outputs": [
    {
     "data": {
      "image/png": "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",
      "text/plain": [
       "<Figure size 1440x432 with 1 Axes>"
      ]
     },
     "metadata": {
      "needs_background": "light"
     },
     "output_type": "display_data"
    }
   ],
   "source": [
    "from sklearn.datasets import load_diabetes\n",
    "diabetes=load_diabetes()\n",
    "X_dia = diabetes.data  # features\n",
    "y_dia= diabetes.target  # labels\n",
    "\n",
    "#Normalize\n",
    "X_min = X_dia.min(axis=0)\n",
    "X_max = X_dia.max(axis=0)\n",
    "X_norm = (X_dia - X_min) / (X_max - X_min)\n",
    "\n",
    "#shuffle the data\n",
    "def train_test_split(X,y,test_size=0): # X is data , Y is target , test_size is percentage split\n",
    "    indices = np.arange(X.shape[0]) # create list of indices\n",
    "    np.random.shuffle(indices) # random shuffle to create randomized data selection for split\n",
    "    split_idx = int(X.shape[0] * (1 - test_size))\n",
    "    X_train, X_test = X[indices[:split_idx]], X[indices[split_idx:]]\n",
    "    y_train, y_test = y[indices[:split_idx]], y[indices[split_idx:]]\n",
    "    return X_train, X_test, y_train, y_test\n",
    "\n",
    "#KNN class to train the network\n",
    "class KNN_regression:\n",
    "    def __init__(self, k=0):\n",
    "        self.k = k\n",
    "    \n",
    "    def fit(self, X_train, y_train):\n",
    "        self.X_train = X_train\n",
    "        self.y_train = y_train\n",
    "    \n",
    "    def predict(self, X_test):\n",
    "        predictions = []  # Store predictions\n",
    "        for test_point in X_test:\n",
    "            distances = np.linalg.norm(self.X_train - test_point, axis=1)#calculate the distance for all the test point to the train point (euclidean)\n",
    "            nearest_indices = np.argsort(distances)[:self.k]# find the k points close to the test point\n",
    "            nearest_labels = self.y_train[nearest_indices]# get the label\n",
    "            prediction = np.mean(nearest_labels) # get the mean of the nearest_label\n",
    "            predictions.append(prediction)\n",
    "        return np.array(predictions)\n",
    "    \n",
    "    def MSE(self, y_true, y_pred):\n",
    "        # For regression MSE is used\n",
    "        mse = np.mean((y_true - y_pred) ** 2)\n",
    "        return mse\n",
    "X_train, X_test, y_train, y_test = train_test_split(X_norm, y_dia, test_size=0.2) # Create the test and train data, modify the test_size value to create different split\n",
    "k_values = list(range(1, 300)) #iterate over different k values, modify this value to determine the number of neighbours\n",
    "MSE_list = [] #store the accuracies\n",
    "\n",
    "for k in k_values:\n",
    "    knn = KNN_regression(k=k) #initialize the k value\n",
    "    knn.fit(X_train, y_train) #fit the train data\n",
    "    y_pred = knn.predict(X_test)\n",
    "    MSE = knn.MSE(y_test, y_pred)\n",
    "    MSE_list.append(MSE)\n",
    "\n",
    "plt.figure(figsize=(20, 6))\n",
    "plt.plot(k_values, MSE_list, color='b')  \n",
    "plt.title('MSE of the regression')\n",
    "plt.xlabel('Number of Neighbors (k)')\n",
    "plt.ylabel('MSE')\n",
    "# plt.xticks(k_values)\n",
    "plt.grid(False)  \n",
    "plt.show()\n"
   ]
  },
  {
   "cell_type": "markdown",
   "metadata": {},
   "source": [
    "### Class-conditional probability\n",
    "\n",
    "Compute and visualize the class-conditional probability (conditional probability where the class label is the conditional variable, i.e. $P(X = x \\mid Y = y_i)$ for all features in the breast cancer dataset. Assume a Gaussian distribution.\n",
    "\n",
    "<p><font color='#770a0a'>Based on visual analysis of the plots, which individual feature can best discriminate between the two classes? Motivate your answer.</font></p>\n",
    "\n"
   ]
  }
 ],
 "metadata": {
  "kernelspec": {
   "display_name": "Python 3",
   "language": "python",
   "name": "python3"
  },
  "language_info": {
   "codemirror_mode": {
    "name": "ipython",
    "version": 3
   },
   "file_extension": ".py",
   "mimetype": "text/x-python",
   "name": "python",
   "nbconvert_exporter": "python",
   "pygments_lexer": "ipython3",
   "version": "3.6.13"
   "version": "3.6.13"
  }
 },
 "nbformat": 4,
 "nbformat_minor": 2
}
